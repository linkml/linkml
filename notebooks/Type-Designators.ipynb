{
 "cells": [
  {
   "cell_type": "code",
   "execution_count": 1,
   "id": "36ff60e5",
   "metadata": {},
   "source": [
    "%load_ext yamlmagic"
   ],
   "outputs": []
  },
  {
   "cell_type": "code",
   "execution_count": 2,
   "id": "8327f543",
   "metadata": {},
   "source": [
    "%%yaml model\n",
    "id: https://example.org/\n",
    "name: example\n",
    "prefixes:\n",
    "  example: https://example.org/\n",
    "  linkml: https://w3id.org/linkml/\n",
    "default_prefix: example\n",
    "default_range: string\n",
    "imports:\n",
    "  - linkml:types\n",
    "\n",
    "classes:\n",
    "  Thing:\n",
    "    attributes:\n",
    "      type:\n",
    "        designates_type: true\n",
    "  Vehicle:\n",
    "    is_a: Thing\n",
    "    attributes:\n",
    "      num_wheels:\n",
    "        range: integer\n",
    "  Building:\n",
    "    is_a: Thing\n",
    "    attributes:\n",
    "      num_floors:\n",
    "        range: integer\n",
    "        \n",
    "  Container:\n",
    "    attributes:\n",
    "      things:\n",
    "        range: Thing\n",
    "        multivalued: true\n",
    "    "
   ],
   "outputs": []
  },
  {
   "cell_type": "code",
   "execution_count": 35,
   "id": "a5df1cd6",
   "metadata": {},
   "source": [
    "model_str = yaml.dump(model)"
   ],
   "outputs": []
  },
  {
   "cell_type": "code",
   "execution_count": 36,
   "id": "32188102",
   "metadata": {},
   "source": [
    "from linkml_runtime.utils.schemaview import SchemaView"
   ],
   "outputs": []
  },
  {
   "cell_type": "code",
   "execution_count": 37,
   "id": "0c7a6094",
   "metadata": {},
   "source": [
    "sv = SchemaView(model_str)\n",
    "schema = sv.schema"
   ],
   "outputs": []
  },
  {
   "cell_type": "code",
   "execution_count": 38,
   "id": "efdd443a",
   "metadata": {},
   "source": [
    "from linkml.generators.pydanticgen import PydanticGenerator\n",
    "import yaml"
   ],
   "outputs": []
  },
  {
   "cell_type": "code",
   "execution_count": 39,
   "id": "00808b90",
   "metadata": {},
   "source": [
    "gen = PydanticGenerator(schema, log_level=ERROR)"
   ],
   "outputs": []
  },
  {
   "cell_type": "code",
   "execution_count": 40,
   "id": "7acde179",
   "metadata": {},
   "source": [
    "print(gen.serialize())"
   ],
   "outputs": []
  },
  {
   "cell_type": "code",
   "execution_count": 41,
   "id": "ed4dae50",
   "metadata": {},
   "source": [
    "mod = gen.compile_module()"
   ],
   "outputs": []
  },
  {
   "cell_type": "code",
   "execution_count": 42,
   "id": "68b8b0c1",
   "metadata": {},
   "source": [
    "mod.Container.parse_obj({\"things\": [{\"type\": \"Vehicle\", \"num_wheels\": 2}]})"
   ],
   "outputs": []
  },
  {
   "cell_type": "code",
   "execution_count": 43,
   "id": "edd152f5",
   "metadata": {},
   "source": [
    "import pytest"
   ],
   "outputs": []
  },
  {
   "cell_type": "code",
   "execution_count": 44,
   "id": "23f2c500",
   "metadata": {},
   "source": [
    "with pytest.raises(ValueError):\n",
    "  mod.Container.parse_obj({\"things\": [{\"type\": \"Vehicle\", \"num_floors\": 4}]})"
   ],
   "outputs": []
  },
  {
   "cell_type": "code",
   "execution_count": 45,
   "id": "46081bd4",
   "metadata": {},
   "source": [
    "mod.Container(things=[mod.Vehicle(num_wheels=2)])"
   ],
   "outputs": []
  },
  {
   "cell_type": "code",
   "execution_count": 47,
   "id": "3313a7d9",
   "metadata": {},
   "source": [
    "with pytest.raises(ValueError):\n",
    "    mod.Container(things=[mod.Thing(type=\"Vehicle\", num_wheels=2)])"
   ],
   "outputs": []
  },
  {
   "cell_type": "markdown",
   "id": "da6303ed",
   "metadata": {},
   "source": [
    "## Change type designator range\n",
    "\n",
    "What happens if the range is a curie?"
   ]
  },
  {
   "cell_type": "code",
   "execution_count": 48,
   "id": "5a013aa6",
   "metadata": {},
   "source": [
    "schema.classes[\"Thing\"].attributes[\"type\"].range = \"uriorcurie\"\n",
    "gen = PydanticGenerator(schema, log_level=ERROR)\n",
    "mod = gen.compile_module()\n",
    "print(gen.serialize())"
   ],
   "outputs": []
  },
  {
   "cell_type": "code",
   "execution_count": 49,
   "id": "73eacb9d",
   "metadata": {},
   "source": [
    "mod.Container.parse_obj({\"things\": [{\"type\": \"example:Vehicle\", \"num_wheels\": 2}]})"
   ],
   "outputs": []
  },
  {
   "cell_type": "code",
   "execution_count": 50,
   "id": "161b1224",
   "metadata": {},
   "source": [
    "schema.classes[\"Thing\"].attributes[\"type\"].range = \"uri\"\n",
    "gen = PydanticGenerator(schema, log_level=ERROR)\n",
    "mod = gen.compile_module()\n",
    "print(gen.serialize())"
   ],
   "outputs": []
  },
  {
   "cell_type": "markdown",
   "id": "57680a2d",
   "metadata": {},
   "source": [
    "## Data Classes"
   ]
  },
  {
   "cell_type": "code",
   "execution_count": 29,
   "id": "7412538e",
   "metadata": {},
   "source": [
    "from linkml.generators.pythongen import PythonGenerator\n",
    "from logging import ERROR\n",
    "\n",
    "# Note: Jupyter appears to generate output even if the log_level is set.\n",
    "gen = PythonGenerator(model, log_level=ERROR)\n",
    "print(gen.serialize())"
   ],
   "outputs": []
  },
  {
   "cell_type": "markdown",
   "id": "673e03c5",
   "metadata": {},
   "source": [
    "## Any Of"
   ]
  },
  {
   "cell_type": "code",
   "execution_count": 56,
   "id": "5471eebf",
   "metadata": {},
   "source": [
    "%%yaml model\n",
    "id: https://example.org/\n",
    "name: example\n",
    "prefixes:\n",
    "  example: https://example.org/\n",
    "  linkml: https://w3id.org/linkml/\n",
    "default_prefix: example\n",
    "imports:\n",
    "  - linkml:types\n",
    "\n",
    "classes:\n",
    "  Thing:\n",
    "    attributes:\n",
    "      type:\n",
    "        designates_type: true\n",
    "        range: string\n",
    "  Vehicle:\n",
    "    is_a: Thing\n",
    "    attributes:\n",
    "      num_wheels:\n",
    "        range: integer\n",
    "  Car:\n",
    "    is_a: Vehicle\n",
    "    slot_usage:\n",
    "      num_wheels:\n",
    "        equals_expression: \"2\"\n",
    "  Bicycle:\n",
    "    is_a: Vehicle\n",
    "    slot_usage:\n",
    "      num_wheels:\n",
    "        equals_expression: \"4\"\n",
    "  Building:\n",
    "    is_a: Thing\n",
    "    attributes:\n",
    "      num_floors:\n",
    "        range: integer\n",
    "        \n",
    "  Container:\n",
    "    attributes:\n",
    "      things:\n",
    "        any_of:\n",
    "          - range: Vehicle\n",
    "          - range: Building\n",
    "        multivalued: true\n",
    "    "
   ],
   "outputs": []
  },
  {
   "cell_type": "code",
   "execution_count": 57,
   "id": "eb108020",
   "metadata": {},
   "source": [
    "model_str = yaml.dump(model)\n",
    "sv = SchemaView(model_str)\n",
    "schema = sv.schema"
   ],
   "outputs": []
  },
  {
   "cell_type": "code",
   "execution_count": 58,
   "id": "5125a057",
   "metadata": {},
   "source": [
    "gen = PydanticGenerator(schema, log_level=ERROR)\n",
    "mod = gen.compile_module()\n",
    "print(gen.serialize())"
   ],
   "outputs": []
  },
  {
   "cell_type": "code",
   "execution_count": 59,
   "id": "2599c367",
   "metadata": {},
   "source": [
    "# TODO: flatten unions"
   ],
   "outputs": []
  },
  {
   "cell_type": "code",
   "execution_count": 63,
   "id": "52a742f8",
   "metadata": {},
   "source": [
    "mod.Container.parse_obj({\"things\": [{\"type\": \"Vehicle\"}]})"
   ],
   "outputs": []
  },
  {
   "cell_type": "code",
   "execution_count": 64,
   "id": "23f35fee",
   "metadata": {},
   "source": [
    "# TODO: expressions"
   ],
   "outputs": []
  },
  {
   "cell_type": "markdown",
   "id": "da4ea59b",
   "metadata": {},
   "source": [
    "## Union Of"
   ]
  },
  {
   "cell_type": "code",
   "execution_count": null,
   "id": "cbfe94d5",
   "metadata": {},
   "source": [],
   "outputs": []
  },
  {
   "cell_type": "code",
   "execution_count": 56,
   "id": "7d897da4",
   "metadata": {},
   "source": [
    "%%yaml model\n",
    "id: https://example.org/\n",
    "name: example\n",
    "prefixes:\n",
    "  example: https://example.org/\n",
    "  linkml: https://w3id.org/linkml/\n",
    "default_prefix: example\n",
    "imports:\n",
    "  - linkml:types\n",
    "\n",
    "classes:\n",
    "  Thing:\n",
    "    attributes:\n",
    "      type:\n",
    "        designates_type: true\n",
    "        range: string\n",
    "  Vehicle:\n",
    "    is_a: Thing\n",
    "    attributes:\n",
    "      num_wheels:\n",
    "        range: integer\n",
    "  Car:\n",
    "    is_a: Vehicle\n",
    "    slot_usage:\n",
    "      num_wheels:\n",
    "        equals_expression: \"2\"\n",
    "  Bicycle:\n",
    "    is_a: Vehicle\n",
    "    slot_usage:\n",
    "      num_wheels:\n",
    "        equals_expression: \"4\"\n",
    "  Building:\n",
    "    is_a: Thing\n",
    "    attributes:\n",
    "      num_floors:\n",
    "        range: integer\n",
    "        \n",
    "  Container:\n",
    "    attributes:\n",
    "      things:\n",
    "        any_of:\n",
    "          - range: Vehicle\n",
    "          - range: Building\n",
    "        multivalued: true\n",
    "    "
   ],
   "outputs": []
  }
 ],
 "metadata": {
  "kernelspec": {
   "display_name": "Python 3 (ipykernel)",
   "language": "python",
   "name": "python3"
  },
  "language_info": {
   "codemirror_mode": {
    "name": "ipython",
    "version": 3
   },
   "file_extension": ".py",
   "mimetype": "text/x-python",
   "name": "python",
   "nbconvert_exporter": "python",
   "pygments_lexer": "ipython3",
   "version": "3.9.5"
  }
 },
 "nbformat": 4,
 "nbformat_minor": 5
}
