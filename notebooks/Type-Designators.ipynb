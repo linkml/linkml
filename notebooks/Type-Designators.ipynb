{
 "cells": [
  {
   "cell_type": "code",
   "execution_count": 1,
   "id": "09841f4a-d785-4fa8-8daf-2906c89007c6",
   "metadata": {},
   "outputs": [
    {
     "name": "stdout",
     "output_type": "stream",
     "text": [
      "Requirement already satisfied: yamlmagic in /Users/tpfliss/git/linkml/.venv/lib/python3.12/site-packages (0.2.0)\r\n"
     ]
    }
   ],
   "source": [
    "!pip install -q --disable-pip-version-check yamlmagic\n",
    "%load_ext yamlmagic"
   ]
  },
  {
   "cell_type": "code",
   "execution_count": 2,
   "id": "8327f543",
   "metadata": {},
   "outputs": [
    {
     "data": {
      "application/javascript": [
       "\n",
       "            require(\n",
       "                [\n",
       "                    \"notebook/js/codecell\",\n",
       "                    \"codemirror/mode/yaml/yaml\"\n",
       "                ],\n",
       "                function(cc){\n",
       "                    cc.CodeCell.options_default.highlight_modes.magic_yaml = {\n",
       "                        reg: [\"^%%yaml\"]\n",
       "                    }\n",
       "                }\n",
       "            );\n",
       "            "
      ],
      "text/plain": [
       "<IPython.core.display.Javascript object>"
      ]
     },
     "metadata": {},
     "output_type": "display_data"
    }
   ],
   "source": [
    "%%yaml model\n",
    "id: https://example.org/\n",
    "name: example\n",
    "prefixes:\n",
    "  example: https://example.org/\n",
    "  linkml: https://w3id.org/linkml/\n",
    "default_prefix: example\n",
    "default_range: string\n",
    "imports:\n",
    "  - linkml:types\n",
    "\n",
    "classes:\n",
    "  Thing:\n",
    "    attributes:\n",
    "      type:\n",
    "        designates_type: true\n",
    "  Vehicle:\n",
    "    is_a: Thing\n",
    "    attributes:\n",
    "      num_wheels:\n",
    "        range: integer\n",
    "  Building:\n",
    "    is_a: Thing\n",
    "    attributes:\n",
    "      num_floors:\n",
    "        range: integer\n",
    "        \n",
    "  Container:\n",
    "    attributes:\n",
    "      things:\n",
    "        range: Thing\n",
    "        multivalued: true\n",
    "    "
   ]
  },
  {
   "cell_type": "code",
   "execution_count": 3,
   "id": "25ad3561-ccb0-418b-b9f5-3d17ef13e343",
   "metadata": {},
   "outputs": [],
   "source": [
    "import yaml\n",
    "model_str = yaml.dump(model)"
   ]
  },
  {
   "cell_type": "code",
   "execution_count": 4,
   "id": "32188102",
   "metadata": {},
   "outputs": [],
   "source": [
    "from linkml_runtime.utils.schemaview import SchemaView"
   ]
  },
  {
   "cell_type": "code",
   "execution_count": 5,
   "id": "0c7a6094",
   "metadata": {},
   "outputs": [],
   "source": [
    "sv = SchemaView(model_str)\n",
    "schema = sv.schema"
   ]
  },
  {
   "cell_type": "code",
   "execution_count": 6,
   "id": "efdd443a",
   "metadata": {},
   "outputs": [],
   "source": [
    "from linkml.generators.pydanticgen import PydanticGenerator\n",
    "import yaml"
   ]
  },
  {
   "cell_type": "code",
   "execution_count": 7,
   "id": "00808b90",
   "metadata": {},
   "outputs": [],
   "source": [
    "import logging\n",
    "gen = PydanticGenerator(schema, log_level=logging.ERROR)"
   ]
  },
  {
   "cell_type": "code",
   "execution_count": 8,
   "id": "7acde179",
   "metadata": {},
   "outputs": [
    {
     "name": "stdout",
     "output_type": "stream",
     "text": [
      "from __future__ import annotations \n",
      "\n",
      "import re\n",
      "import sys\n",
      "from datetime import (\n",
      "    date,\n",
      "    datetime,\n",
      "    time\n",
      ")\n",
      "from decimal import Decimal \n",
      "from enum import Enum \n",
      "from typing import (\n",
      "    Any,\n",
      "    ClassVar,\n",
      "    Dict,\n",
      "    List,\n",
      "    Literal,\n",
      "    Optional,\n",
      "    Union\n",
      ")\n",
      "\n",
      "from pydantic import (\n",
      "    BaseModel,\n",
      "    ConfigDict,\n",
      "    Field,\n",
      "    RootModel,\n",
      "    field_validator\n",
      ")\n",
      "\n",
      "\n",
      "metamodel_version = \"None\"\n",
      "version = \"None\"\n",
      "\n",
      "\n",
      "class ConfiguredBaseModel(BaseModel):\n",
      "    model_config = ConfigDict(\n",
      "        validate_assignment = True,\n",
      "        validate_default = True,\n",
      "        extra = \"forbid\",\n",
      "        arbitrary_types_allowed = True,\n",
      "        use_enum_values = True,\n",
      "        strict = False,\n",
      "    )\n",
      "    pass\n",
      "\n",
      "\n",
      "\n",
      "\n",
      "class LinkMLMeta(RootModel):\n",
      "    root: Dict[str, Any] = {}\n",
      "    model_config = ConfigDict(frozen=True)\n",
      "\n",
      "    def __getattr__(self, key:str):\n",
      "        return getattr(self.root, key)\n",
      "\n",
      "    def __getitem__(self, key:str):\n",
      "        return self.root[key]\n",
      "\n",
      "    def __setitem__(self, key:str, value):\n",
      "        self.root[key] = value\n",
      "\n",
      "    def __contains__(self, key:str) -> bool:\n",
      "        return key in self.root\n",
      "\n",
      "\n",
      "linkml_meta = LinkMLMeta({'default_prefix': 'example',\n",
      "     'default_range': 'string',\n",
      "     'id': 'https://example.org/',\n",
      "     'imports': ['linkml:types'],\n",
      "     'name': 'example',\n",
      "     'prefixes': {'example': {'prefix_prefix': 'example',\n",
      "                              'prefix_reference': 'https://example.org/'},\n",
      "                  'linkml': {'prefix_prefix': 'linkml',\n",
      "                             'prefix_reference': 'https://w3id.org/linkml/'}}} )\n",
      "\n",
      "\n",
      "class Container(ConfiguredBaseModel):\n",
      "    linkml_meta: ClassVar[LinkMLMeta] = LinkMLMeta({'from_schema': 'https://example.org/'})\n",
      "\n",
      "    things: Optional[List[Union[Thing,Building,Vehicle]]] = Field(default=None, json_schema_extra = { \"linkml_meta\": {'alias': 'things', 'domain_of': ['Container']} })\n",
      "\n",
      "\n",
      "class Thing(ConfiguredBaseModel):\n",
      "    linkml_meta: ClassVar[LinkMLMeta] = LinkMLMeta({'from_schema': 'https://example.org/'})\n",
      "\n",
      "    type: Literal[\"Thing\"] = Field(default=\"Thing\", json_schema_extra = { \"linkml_meta\": {'alias': 'type', 'designates_type': True, 'domain_of': ['Thing']} })\n",
      "\n",
      "\n",
      "class Building(Thing):\n",
      "    linkml_meta: ClassVar[LinkMLMeta] = LinkMLMeta({'from_schema': 'https://example.org/'})\n",
      "\n",
      "    num_floors: Optional[int] = Field(default=None, json_schema_extra = { \"linkml_meta\": {'alias': 'num_floors', 'domain_of': ['Building']} })\n",
      "    type: Literal[\"Building\"] = Field(default=\"Building\", json_schema_extra = { \"linkml_meta\": {'alias': 'type', 'designates_type': True, 'domain_of': ['Thing']} })\n",
      "\n",
      "\n",
      "class Vehicle(Thing):\n",
      "    linkml_meta: ClassVar[LinkMLMeta] = LinkMLMeta({'from_schema': 'https://example.org/'})\n",
      "\n",
      "    num_wheels: Optional[int] = Field(default=None, json_schema_extra = { \"linkml_meta\": {'alias': 'num_wheels', 'domain_of': ['Vehicle']} })\n",
      "    type: Literal[\"Vehicle\"] = Field(default=\"Vehicle\", json_schema_extra = { \"linkml_meta\": {'alias': 'type', 'designates_type': True, 'domain_of': ['Thing']} })\n",
      "\n",
      "\n",
      "# Model rebuild\n",
      "# see https://pydantic-docs.helpmanual.io/usage/models/#rebuilding-a-model\n",
      "Container.model_rebuild()\n",
      "Thing.model_rebuild()\n",
      "Building.model_rebuild()\n",
      "Vehicle.model_rebuild()\n",
      "\n"
     ]
    }
   ],
   "source": [
    "print(gen.serialize())"
   ]
  },
  {
   "cell_type": "code",
   "execution_count": 9,
   "id": "ed4dae50",
   "metadata": {},
   "outputs": [],
   "source": [
    "mod = gen.compile_module()"
   ]
  },
  {
   "cell_type": "code",
   "execution_count": 10,
   "id": "68b8b0c1",
   "metadata": {},
   "outputs": [
    {
     "data": {
      "text/plain": [
       "Container(things=[Vehicle(type='Vehicle', num_wheels=2)])"
      ]
     },
     "execution_count": 10,
     "metadata": {},
     "output_type": "execute_result"
    }
   ],
   "source": [
    "mod.Container.model_validate({\"things\": [{\"type\": \"Vehicle\", \"num_wheels\": 2}]})"
   ]
  },
  {
   "cell_type": "code",
   "execution_count": 11,
   "id": "edd152f5",
   "metadata": {},
   "outputs": [],
   "source": [
    "import pytest"
   ]
  },
  {
   "cell_type": "code",
   "execution_count": 12,
   "id": "23f2c500",
   "metadata": {},
   "outputs": [],
   "source": [
    "with pytest.raises(ValueError):\n",
    "  mod.Container.model_validate({\"things\": [{\"type\": \"Vehicle\", \"num_floors\": 4}]})"
   ]
  },
  {
   "cell_type": "code",
   "execution_count": 13,
   "id": "46081bd4",
   "metadata": {},
   "outputs": [
    {
     "data": {
      "text/plain": [
       "Container(things=[Vehicle(type='Vehicle', num_wheels=2)])"
      ]
     },
     "execution_count": 13,
     "metadata": {},
     "output_type": "execute_result"
    }
   ],
   "source": [
    "mod.Container(things=[mod.Vehicle(num_wheels=2)])"
   ]
  },
  {
   "cell_type": "code",
   "execution_count": 14,
   "id": "3313a7d9",
   "metadata": {},
   "outputs": [],
   "source": [
    "with pytest.raises(ValueError):\n",
    "    mod.Container(things=[mod.Thing(type=\"Vehicle\", num_wheels=2)])"
   ]
  },
  {
   "cell_type": "markdown",
   "id": "da6303ed",
   "metadata": {},
   "source": [
    "## Change type designator range\n",
    "\n",
    "What happens if the range is a curie?"
   ]
  },
  {
   "cell_type": "code",
   "execution_count": 15,
   "id": "5a013aa6",
   "metadata": {},
   "outputs": [
    {
     "name": "stdout",
     "output_type": "stream",
     "text": [
      "from __future__ import annotations \n",
      "\n",
      "import re\n",
      "import sys\n",
      "from datetime import (\n",
      "    date,\n",
      "    datetime,\n",
      "    time\n",
      ")\n",
      "from decimal import Decimal \n",
      "from enum import Enum \n",
      "from typing import (\n",
      "    Any,\n",
      "    ClassVar,\n",
      "    Dict,\n",
      "    List,\n",
      "    Literal,\n",
      "    Optional,\n",
      "    Union\n",
      ")\n",
      "\n",
      "from pydantic import (\n",
      "    BaseModel,\n",
      "    ConfigDict,\n",
      "    Field,\n",
      "    RootModel,\n",
      "    field_validator\n",
      ")\n",
      "\n",
      "\n",
      "metamodel_version = \"None\"\n",
      "version = \"None\"\n",
      "\n",
      "\n",
      "class ConfiguredBaseModel(BaseModel):\n",
      "    model_config = ConfigDict(\n",
      "        validate_assignment = True,\n",
      "        validate_default = True,\n",
      "        extra = \"forbid\",\n",
      "        arbitrary_types_allowed = True,\n",
      "        use_enum_values = True,\n",
      "        strict = False,\n",
      "    )\n",
      "    pass\n",
      "\n",
      "\n",
      "\n",
      "\n",
      "class LinkMLMeta(RootModel):\n",
      "    root: Dict[str, Any] = {}\n",
      "    model_config = ConfigDict(frozen=True)\n",
      "\n",
      "    def __getattr__(self, key:str):\n",
      "        return getattr(self.root, key)\n",
      "\n",
      "    def __getitem__(self, key:str):\n",
      "        return self.root[key]\n",
      "\n",
      "    def __setitem__(self, key:str, value):\n",
      "        self.root[key] = value\n",
      "\n",
      "    def __contains__(self, key:str) -> bool:\n",
      "        return key in self.root\n",
      "\n",
      "\n",
      "linkml_meta = LinkMLMeta({'default_prefix': 'example',\n",
      "     'default_range': 'string',\n",
      "     'id': 'https://example.org/',\n",
      "     'imports': ['linkml:types'],\n",
      "     'name': 'example',\n",
      "     'prefixes': {'example': {'prefix_prefix': 'example',\n",
      "                              'prefix_reference': 'https://example.org/'},\n",
      "                  'linkml': {'prefix_prefix': 'linkml',\n",
      "                             'prefix_reference': 'https://w3id.org/linkml/'}}} )\n",
      "\n",
      "\n",
      "class Container(ConfiguredBaseModel):\n",
      "    linkml_meta: ClassVar[LinkMLMeta] = LinkMLMeta({'from_schema': 'https://example.org/'})\n",
      "\n",
      "    things: Optional[List[Union[Thing,Building,Vehicle]]] = Field(default=None, json_schema_extra = { \"linkml_meta\": {'alias': 'things', 'domain_of': ['Container']} })\n",
      "\n",
      "\n",
      "class Thing(ConfiguredBaseModel):\n",
      "    linkml_meta: ClassVar[LinkMLMeta] = LinkMLMeta({'from_schema': 'https://example.org/'})\n",
      "\n",
      "    type: Literal[\"https://example.org/Thing\",\"example:Thing\"] = Field(default=\"example:Thing\", json_schema_extra = { \"linkml_meta\": {'alias': 'type', 'designates_type': True, 'domain_of': ['Thing']} })\n",
      "\n",
      "\n",
      "class Building(Thing):\n",
      "    linkml_meta: ClassVar[LinkMLMeta] = LinkMLMeta({'from_schema': 'https://example.org/'})\n",
      "\n",
      "    num_floors: Optional[int] = Field(default=None, json_schema_extra = { \"linkml_meta\": {'alias': 'num_floors', 'domain_of': ['Building']} })\n",
      "    type: Literal[\"https://example.org/Building\",\"example:Building\"] = Field(default=\"example:Building\", json_schema_extra = { \"linkml_meta\": {'alias': 'type', 'designates_type': True, 'domain_of': ['Thing']} })\n",
      "\n",
      "\n",
      "class Vehicle(Thing):\n",
      "    linkml_meta: ClassVar[LinkMLMeta] = LinkMLMeta({'from_schema': 'https://example.org/'})\n",
      "\n",
      "    num_wheels: Optional[int] = Field(default=None, json_schema_extra = { \"linkml_meta\": {'alias': 'num_wheels', 'domain_of': ['Vehicle']} })\n",
      "    type: Literal[\"https://example.org/Vehicle\",\"example:Vehicle\"] = Field(default=\"example:Vehicle\", json_schema_extra = { \"linkml_meta\": {'alias': 'type', 'designates_type': True, 'domain_of': ['Thing']} })\n",
      "\n",
      "\n",
      "# Model rebuild\n",
      "# see https://pydantic-docs.helpmanual.io/usage/models/#rebuilding-a-model\n",
      "Container.model_rebuild()\n",
      "Thing.model_rebuild()\n",
      "Building.model_rebuild()\n",
      "Vehicle.model_rebuild()\n",
      "\n"
     ]
    }
   ],
   "source": [
    "schema.classes[\"Thing\"].attributes[\"type\"].range = \"uriorcurie\"\n",
    "gen = PydanticGenerator(schema, log_level=logging.ERROR)\n",
    "mod = gen.compile_module()\n",
    "print(gen.serialize())"
   ]
  },
  {
   "cell_type": "code",
   "execution_count": 16,
   "id": "73eacb9d",
   "metadata": {},
   "outputs": [
    {
     "data": {
      "text/plain": [
       "Container(things=[Vehicle(type='example:Vehicle', num_wheels=2)])"
      ]
     },
     "execution_count": 16,
     "metadata": {},
     "output_type": "execute_result"
    }
   ],
   "source": [
    "mod.Container.model_validate({\"things\": [{\"type\": \"example:Vehicle\", \"num_wheels\": 2}]})"
   ]
  },
  {
   "cell_type": "code",
   "execution_count": 17,
   "id": "161b1224",
   "metadata": {},
   "outputs": [
    {
     "name": "stdout",
     "output_type": "stream",
     "text": [
      "from __future__ import annotations \n",
      "\n",
      "import re\n",
      "import sys\n",
      "from datetime import (\n",
      "    date,\n",
      "    datetime,\n",
      "    time\n",
      ")\n",
      "from decimal import Decimal \n",
      "from enum import Enum \n",
      "from typing import (\n",
      "    Any,\n",
      "    ClassVar,\n",
      "    Dict,\n",
      "    List,\n",
      "    Literal,\n",
      "    Optional,\n",
      "    Union\n",
      ")\n",
      "\n",
      "from pydantic import (\n",
      "    BaseModel,\n",
      "    ConfigDict,\n",
      "    Field,\n",
      "    RootModel,\n",
      "    field_validator\n",
      ")\n",
      "\n",
      "\n",
      "metamodel_version = \"None\"\n",
      "version = \"None\"\n",
      "\n",
      "\n",
      "class ConfiguredBaseModel(BaseModel):\n",
      "    model_config = ConfigDict(\n",
      "        validate_assignment = True,\n",
      "        validate_default = True,\n",
      "        extra = \"forbid\",\n",
      "        arbitrary_types_allowed = True,\n",
      "        use_enum_values = True,\n",
      "        strict = False,\n",
      "    )\n",
      "    pass\n",
      "\n",
      "\n",
      "\n",
      "\n",
      "class LinkMLMeta(RootModel):\n",
      "    root: Dict[str, Any] = {}\n",
      "    model_config = ConfigDict(frozen=True)\n",
      "\n",
      "    def __getattr__(self, key:str):\n",
      "        return getattr(self.root, key)\n",
      "\n",
      "    def __getitem__(self, key:str):\n",
      "        return self.root[key]\n",
      "\n",
      "    def __setitem__(self, key:str, value):\n",
      "        self.root[key] = value\n",
      "\n",
      "    def __contains__(self, key:str) -> bool:\n",
      "        return key in self.root\n",
      "\n",
      "\n",
      "linkml_meta = LinkMLMeta({'default_prefix': 'example',\n",
      "     'default_range': 'string',\n",
      "     'id': 'https://example.org/',\n",
      "     'imports': ['linkml:types'],\n",
      "     'name': 'example',\n",
      "     'prefixes': {'example': {'prefix_prefix': 'example',\n",
      "                              'prefix_reference': 'https://example.org/'},\n",
      "                  'linkml': {'prefix_prefix': 'linkml',\n",
      "                             'prefix_reference': 'https://w3id.org/linkml/'}}} )\n",
      "\n",
      "\n",
      "class Container(ConfiguredBaseModel):\n",
      "    linkml_meta: ClassVar[LinkMLMeta] = LinkMLMeta({'from_schema': 'https://example.org/'})\n",
      "\n",
      "    things: Optional[List[Union[Thing,Building,Vehicle]]] = Field(default=None, json_schema_extra = { \"linkml_meta\": {'alias': 'things', 'domain_of': ['Container']} })\n",
      "\n",
      "\n",
      "class Thing(ConfiguredBaseModel):\n",
      "    linkml_meta: ClassVar[LinkMLMeta] = LinkMLMeta({'from_schema': 'https://example.org/'})\n",
      "\n",
      "    type: Literal[\"https://example.org/Thing\",\"example:Thing\"] = Field(default=\"https://example.org/Thing\", json_schema_extra = { \"linkml_meta\": {'alias': 'type', 'designates_type': True, 'domain_of': ['Thing']} })\n",
      "\n",
      "\n",
      "class Building(Thing):\n",
      "    linkml_meta: ClassVar[LinkMLMeta] = LinkMLMeta({'from_schema': 'https://example.org/'})\n",
      "\n",
      "    num_floors: Optional[int] = Field(default=None, json_schema_extra = { \"linkml_meta\": {'alias': 'num_floors', 'domain_of': ['Building']} })\n",
      "    type: Literal[\"https://example.org/Building\",\"example:Building\"] = Field(default=\"https://example.org/Building\", json_schema_extra = { \"linkml_meta\": {'alias': 'type', 'designates_type': True, 'domain_of': ['Thing']} })\n",
      "\n",
      "\n",
      "class Vehicle(Thing):\n",
      "    linkml_meta: ClassVar[LinkMLMeta] = LinkMLMeta({'from_schema': 'https://example.org/'})\n",
      "\n",
      "    num_wheels: Optional[int] = Field(default=None, json_schema_extra = { \"linkml_meta\": {'alias': 'num_wheels', 'domain_of': ['Vehicle']} })\n",
      "    type: Literal[\"https://example.org/Vehicle\",\"example:Vehicle\"] = Field(default=\"https://example.org/Vehicle\", json_schema_extra = { \"linkml_meta\": {'alias': 'type', 'designates_type': True, 'domain_of': ['Thing']} })\n",
      "\n",
      "\n",
      "# Model rebuild\n",
      "# see https://pydantic-docs.helpmanual.io/usage/models/#rebuilding-a-model\n",
      "Container.model_rebuild()\n",
      "Thing.model_rebuild()\n",
      "Building.model_rebuild()\n",
      "Vehicle.model_rebuild()\n",
      "\n"
     ]
    }
   ],
   "source": [
    "schema.classes[\"Thing\"].attributes[\"type\"].range = \"uri\"\n",
    "gen = PydanticGenerator(schema, log_level=logging.ERROR)\n",
    "mod = gen.compile_module()\n",
    "print(gen.serialize())"
   ]
  },
  {
   "cell_type": "markdown",
   "id": "57680a2d",
   "metadata": {},
   "source": [
    "## Data Classes"
   ]
  },
  {
   "cell_type": "raw",
   "id": "3c4eddde-e8ec-4259-a3c2-d79fbd47452f",
   "metadata": {},
   "source": [
    "from linkml.generators.pythongen import PythonGenerator\n",
    "import logging\n",
    "\n",
    "# Note: Jupyter appears to generate output even if the log_level is set.\n",
    "gen = PythonGenerator(model, log_level=logging.ERROR)\n",
    "print(gen.serialize())"
   ]
  },
  {
   "cell_type": "markdown",
   "id": "673e03c5",
   "metadata": {},
   "source": [
    "## Any Of"
   ]
  },
  {
   "cell_type": "code",
   "execution_count": 18,
   "id": "5471eebf",
   "metadata": {},
   "outputs": [
    {
     "data": {
      "application/javascript": [
       "\n",
       "            require(\n",
       "                [\n",
       "                    \"notebook/js/codecell\",\n",
       "                    \"codemirror/mode/yaml/yaml\"\n",
       "                ],\n",
       "                function(cc){\n",
       "                    cc.CodeCell.options_default.highlight_modes.magic_yaml = {\n",
       "                        reg: [\"^%%yaml\"]\n",
       "                    }\n",
       "                }\n",
       "            );\n",
       "            "
      ],
      "text/plain": [
       "<IPython.core.display.Javascript object>"
      ]
     },
     "metadata": {},
     "output_type": "display_data"
    }
   ],
   "source": [
    "%%yaml model\n",
    "id: https://example.org/\n",
    "name: example\n",
    "prefixes:\n",
    "  example: https://example.org/\n",
    "  linkml: https://w3id.org/linkml/\n",
    "default_prefix: example\n",
    "imports:\n",
    "  - linkml:types\n",
    "\n",
    "classes:\n",
    "  Thing:\n",
    "    attributes:\n",
    "      type:\n",
    "        designates_type: true\n",
    "        range: string\n",
    "  Vehicle:\n",
    "    is_a: Thing\n",
    "    attributes:\n",
    "      num_wheels:\n",
    "        range: integer\n",
    "  Car:\n",
    "    is_a: Vehicle\n",
    "    slot_usage:\n",
    "      num_wheels:\n",
    "        equals_expression: \"2\"\n",
    "  Bicycle:\n",
    "    is_a: Vehicle\n",
    "    slot_usage:\n",
    "      num_wheels:\n",
    "        equals_expression: \"4\"\n",
    "  Building:\n",
    "    is_a: Thing\n",
    "    attributes:\n",
    "      num_floors:\n",
    "        range: integer\n",
    "        \n",
    "  Container:\n",
    "    attributes:\n",
    "      things:\n",
    "        any_of:\n",
    "          - range: Vehicle\n",
    "          - range: Building\n",
    "        multivalued: true\n",
    "    "
   ]
  },
  {
   "cell_type": "code",
   "execution_count": 19,
   "id": "eb108020",
   "metadata": {},
   "outputs": [],
   "source": [
    "model_str = yaml.dump(model)\n",
    "sv = SchemaView(model_str)\n",
    "schema = sv.schema"
   ]
  },
  {
   "cell_type": "code",
   "execution_count": 20,
   "id": "5125a057",
   "metadata": {},
   "outputs": [
    {
     "name": "stdout",
     "output_type": "stream",
     "text": [
      "from __future__ import annotations \n",
      "\n",
      "import re\n",
      "import sys\n",
      "from datetime import (\n",
      "    date,\n",
      "    datetime,\n",
      "    time\n",
      ")\n",
      "from decimal import Decimal \n",
      "from enum import Enum \n",
      "from typing import (\n",
      "    Any,\n",
      "    ClassVar,\n",
      "    Dict,\n",
      "    List,\n",
      "    Literal,\n",
      "    Optional,\n",
      "    Union\n",
      ")\n",
      "\n",
      "from pydantic import (\n",
      "    BaseModel,\n",
      "    ConfigDict,\n",
      "    Field,\n",
      "    RootModel,\n",
      "    field_validator\n",
      ")\n",
      "\n",
      "\n",
      "metamodel_version = \"None\"\n",
      "version = \"None\"\n",
      "\n",
      "\n",
      "class ConfiguredBaseModel(BaseModel):\n",
      "    model_config = ConfigDict(\n",
      "        validate_assignment = True,\n",
      "        validate_default = True,\n",
      "        extra = \"forbid\",\n",
      "        arbitrary_types_allowed = True,\n",
      "        use_enum_values = True,\n",
      "        strict = False,\n",
      "    )\n",
      "    pass\n",
      "\n",
      "\n",
      "\n",
      "\n",
      "class LinkMLMeta(RootModel):\n",
      "    root: Dict[str, Any] = {}\n",
      "    model_config = ConfigDict(frozen=True)\n",
      "\n",
      "    def __getattr__(self, key:str):\n",
      "        return getattr(self.root, key)\n",
      "\n",
      "    def __getitem__(self, key:str):\n",
      "        return self.root[key]\n",
      "\n",
      "    def __setitem__(self, key:str, value):\n",
      "        self.root[key] = value\n",
      "\n",
      "    def __contains__(self, key:str) -> bool:\n",
      "        return key in self.root\n",
      "\n",
      "\n",
      "linkml_meta = LinkMLMeta({'default_prefix': 'example',\n",
      "     'id': 'https://example.org/',\n",
      "     'imports': ['linkml:types'],\n",
      "     'name': 'example',\n",
      "     'prefixes': {'example': {'prefix_prefix': 'example',\n",
      "                              'prefix_reference': 'https://example.org/'},\n",
      "                  'linkml': {'prefix_prefix': 'linkml',\n",
      "                             'prefix_reference': 'https://w3id.org/linkml/'}}} )\n",
      "\n",
      "\n",
      "class Container(ConfiguredBaseModel):\n",
      "    linkml_meta: ClassVar[LinkMLMeta] = LinkMLMeta({'from_schema': 'https://example.org/'})\n",
      "\n",
      "    things: Optional[List[Union[Building, Union[Vehicle,Bicycle,Car]]]] = Field(default=None, json_schema_extra = { \"linkml_meta\": {'alias': 'things',\n",
      "         'any_of': [{'range': 'Vehicle'}, {'range': 'Building'}],\n",
      "         'domain_of': ['Container']} })\n",
      "\n",
      "\n",
      "class Thing(ConfiguredBaseModel):\n",
      "    linkml_meta: ClassVar[LinkMLMeta] = LinkMLMeta({'from_schema': 'https://example.org/'})\n",
      "\n",
      "    type: Literal[\"Thing\"] = Field(default=\"Thing\", json_schema_extra = { \"linkml_meta\": {'alias': 'type', 'designates_type': True, 'domain_of': ['Thing']} })\n",
      "\n",
      "\n",
      "class Building(Thing):\n",
      "    linkml_meta: ClassVar[LinkMLMeta] = LinkMLMeta({'from_schema': 'https://example.org/'})\n",
      "\n",
      "    num_floors: Optional[int] = Field(default=None, json_schema_extra = { \"linkml_meta\": {'alias': 'num_floors', 'domain_of': ['Building']} })\n",
      "    type: Literal[\"Building\"] = Field(default=\"Building\", json_schema_extra = { \"linkml_meta\": {'alias': 'type', 'designates_type': True, 'domain_of': ['Thing']} })\n",
      "\n",
      "\n",
      "class Vehicle(Thing):\n",
      "    linkml_meta: ClassVar[LinkMLMeta] = LinkMLMeta({'from_schema': 'https://example.org/'})\n",
      "\n",
      "    num_wheels: Optional[int] = Field(default=None, json_schema_extra = { \"linkml_meta\": {'alias': 'num_wheels', 'domain_of': ['Vehicle']} })\n",
      "    type: Literal[\"Vehicle\"] = Field(default=\"Vehicle\", json_schema_extra = { \"linkml_meta\": {'alias': 'type', 'designates_type': True, 'domain_of': ['Thing']} })\n",
      "\n",
      "\n",
      "class Bicycle(Vehicle):\n",
      "    linkml_meta: ClassVar[LinkMLMeta] = LinkMLMeta({'from_schema': 'https://example.org/',\n",
      "         'slot_usage': {'num_wheels': {'equals_expression': '4', 'name': 'num_wheels'}}})\n",
      "\n",
      "    num_wheels: Optional[int] = Field(default=None, json_schema_extra = { \"linkml_meta\": {'alias': 'num_wheels', 'domain_of': ['Vehicle'], 'equals_expression': '4'} })\n",
      "    type: Literal[\"Bicycle\"] = Field(default=\"Bicycle\", json_schema_extra = { \"linkml_meta\": {'alias': 'type', 'designates_type': True, 'domain_of': ['Thing']} })\n",
      "\n",
      "\n",
      "class Car(Vehicle):\n",
      "    linkml_meta: ClassVar[LinkMLMeta] = LinkMLMeta({'from_schema': 'https://example.org/',\n",
      "         'slot_usage': {'num_wheels': {'equals_expression': '2', 'name': 'num_wheels'}}})\n",
      "\n",
      "    num_wheels: Optional[int] = Field(default=None, json_schema_extra = { \"linkml_meta\": {'alias': 'num_wheels', 'domain_of': ['Vehicle'], 'equals_expression': '2'} })\n",
      "    type: Literal[\"Car\"] = Field(default=\"Car\", json_schema_extra = { \"linkml_meta\": {'alias': 'type', 'designates_type': True, 'domain_of': ['Thing']} })\n",
      "\n",
      "\n",
      "# Model rebuild\n",
      "# see https://pydantic-docs.helpmanual.io/usage/models/#rebuilding-a-model\n",
      "Container.model_rebuild()\n",
      "Thing.model_rebuild()\n",
      "Building.model_rebuild()\n",
      "Vehicle.model_rebuild()\n",
      "Bicycle.model_rebuild()\n",
      "Car.model_rebuild()\n",
      "\n"
     ]
    }
   ],
   "source": [
    "from logging import ERROR\n",
    "gen = PydanticGenerator(schema, log_level=ERROR)\n",
    "mod = gen.compile_module()\n",
    "print(gen.serialize())"
   ]
  },
  {
   "cell_type": "code",
   "execution_count": 21,
   "id": "2599c367",
   "metadata": {},
   "outputs": [],
   "source": [
    "# TODO: flatten unions"
   ]
  },
  {
   "cell_type": "code",
   "execution_count": 22,
   "id": "52a742f8",
   "metadata": {},
   "outputs": [
    {
     "data": {
      "text/plain": [
       "Container(things=[Vehicle(type='Vehicle', num_wheels=None)])"
      ]
     },
     "execution_count": 22,
     "metadata": {},
     "output_type": "execute_result"
    }
   ],
   "source": [
    "mod.Container.model_validate({\"things\": [{\"type\": \"Vehicle\"}]})"
   ]
  },
  {
   "cell_type": "code",
   "execution_count": 23,
   "id": "23f35fee",
   "metadata": {},
   "outputs": [],
   "source": [
    "# TODO: expressions"
   ]
  },
  {
   "cell_type": "markdown",
   "id": "da4ea59b",
   "metadata": {},
   "source": [
    "## Union Of"
   ]
  },
  {
   "cell_type": "code",
   "execution_count": 24,
   "id": "7d897da4",
   "metadata": {},
   "outputs": [
    {
     "data": {
      "application/javascript": [
       "\n",
       "            require(\n",
       "                [\n",
       "                    \"notebook/js/codecell\",\n",
       "                    \"codemirror/mode/yaml/yaml\"\n",
       "                ],\n",
       "                function(cc){\n",
       "                    cc.CodeCell.options_default.highlight_modes.magic_yaml = {\n",
       "                        reg: [\"^%%yaml\"]\n",
       "                    }\n",
       "                }\n",
       "            );\n",
       "            "
      ],
      "text/plain": [
       "<IPython.core.display.Javascript object>"
      ]
     },
     "metadata": {},
     "output_type": "display_data"
    }
   ],
   "source": [
    "%%yaml model\n",
    "id: https://example.org/\n",
    "name: example\n",
    "prefixes:\n",
    "  example: https://example.org/\n",
    "  linkml: https://w3id.org/linkml/\n",
    "default_prefix: example\n",
    "imports:\n",
    "  - linkml:types\n",
    "\n",
    "classes:\n",
    "  Thing:\n",
    "    attributes:\n",
    "      type:\n",
    "        designates_type: true\n",
    "        range: string\n",
    "  Vehicle:\n",
    "    is_a: Thing\n",
    "    attributes:\n",
    "      num_wheels:\n",
    "        range: integer\n",
    "  Car:\n",
    "    is_a: Vehicle\n",
    "    slot_usage:\n",
    "      num_wheels:\n",
    "        equals_expression: \"2\"\n",
    "  Bicycle:\n",
    "    is_a: Vehicle\n",
    "    slot_usage:\n",
    "      num_wheels:\n",
    "        equals_expression: \"4\"\n",
    "  Building:\n",
    "    is_a: Thing\n",
    "    attributes:\n",
    "      num_floors:\n",
    "        range: integer\n",
    "        \n",
    "  Container:\n",
    "    attributes:\n",
    "      things:\n",
    "        any_of:\n",
    "          - range: Vehicle\n",
    "          - range: Building\n",
    "        multivalued: true\n",
    "    "
   ]
  }
 ],
 "metadata": {
  "kernelspec": {
   "display_name": "Python 3 (ipykernel)",
   "language": "python",
   "name": "python3"
  },
  "language_info": {
   "codemirror_mode": {
    "name": "ipython",
    "version": 3
   },
   "file_extension": ".py",
   "mimetype": "text/x-python",
   "name": "python",
   "nbconvert_exporter": "python",
   "pygments_lexer": "ipython3",
   "version": "3.12.7"
  }
 },
 "nbformat": 4,
 "nbformat_minor": 5
}
