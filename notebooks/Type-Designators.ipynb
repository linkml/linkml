{
 "cells": [
  {
   "cell_type": "code",
   "execution_count": 1,
   "id": "36ff60e5",
   "metadata": {},
   "outputs": [],
   "source": [
    "%load_ext yamlmagic"
   ]
  },
  {
   "cell_type": "code",
   "execution_count": 2,
   "id": "8327f543",
   "metadata": {},
   "outputs": [
    {
     "data": {
      "application/javascript": [
       "\n",
       "            require(\n",
       "                [\n",
       "                    \"notebook/js/codecell\",\n",
       "                    \"codemirror/mode/yaml/yaml\"\n",
       "                ],\n",
       "                function(cc){\n",
       "                    cc.CodeCell.options_default.highlight_modes.magic_yaml = {\n",
       "                        reg: [\"^%%yaml\"]\n",
       "                    }\n",
       "                }\n",
       "            );\n",
       "            "
      ],
      "text/plain": [
       "<IPython.core.display.Javascript object>"
      ]
     },
     "metadata": {},
     "output_type": "display_data"
    }
   ],
   "source": [
    "%%yaml model\n",
    "id: https://example.org/\n",
    "name: example\n",
    "prefixes:\n",
    "  example: https://example.org/\n",
    "  linkml: https://w3id.org/linkml/\n",
    "default_prefix: example\n",
    "default_range: string\n",
    "imports:\n",
    "  - linkml:types\n",
    "\n",
    "classes:\n",
    "  Thing:\n",
    "    attributes:\n",
    "      type:\n",
    "        designates_type: true\n",
    "  Vehicle:\n",
    "    is_a: Thing\n",
    "    attributes:\n",
    "      num_wheels:\n",
    "        range: integer\n",
    "  Building:\n",
    "    is_a: Thing\n",
    "    attributes:\n",
    "      num_floors:\n",
    "        range: integer\n",
    "        \n",
    "  Container:\n",
    "    attributes:\n",
    "      things:\n",
    "        range: Thing\n",
    "        multivalued: true\n",
    "    "
   ]
  },
  {
   "cell_type": "code",
   "execution_count": 35,
   "id": "a5df1cd6",
   "metadata": {},
   "outputs": [],
   "source": [
    "model_str = yaml.dump(model)"
   ]
  },
  {
   "cell_type": "code",
   "execution_count": 36,
   "id": "32188102",
   "metadata": {},
   "outputs": [],
   "source": [
    "from linkml_runtime.utils.schemaview import SchemaView"
   ]
  },
  {
   "cell_type": "code",
   "execution_count": 37,
   "id": "0c7a6094",
   "metadata": {},
   "outputs": [],
   "source": [
    "sv = SchemaView(model_str)\n",
    "schema = sv.schema"
   ]
  },
  {
   "cell_type": "code",
   "execution_count": 38,
   "id": "efdd443a",
   "metadata": {},
   "outputs": [],
   "source": [
    "from linkml.generators.pydanticgen import PydanticGenerator\n",
    "import yaml"
   ]
  },
  {
   "cell_type": "code",
   "execution_count": 39,
   "id": "00808b90",
   "metadata": {},
   "outputs": [],
   "source": [
    "gen = PydanticGenerator(schema, log_level=ERROR)"
   ]
  },
  {
   "cell_type": "code",
   "execution_count": 40,
   "id": "7acde179",
   "metadata": {},
   "outputs": [
    {
     "name": "stdout",
     "output_type": "stream",
     "text": [
      "from __future__ import annotations\n",
      "from datetime import datetime, date\n",
      "from enum import Enum\n",
      "from typing import List, Dict, Optional, Any, Union, Literal\n",
      "from pydantic import BaseModel as BaseModel, Field\n",
      "from linkml_runtime.linkml_model import Decimal\n",
      "\n",
      "metamodel_version = \"None\"\n",
      "version = \"None\"\n",
      "\n",
      "class WeakRefShimBaseModel(BaseModel):\n",
      "   __slots__ = '__weakref__'\n",
      "    \n",
      "class ConfiguredBaseModel(WeakRefShimBaseModel,\n",
      "                validate_assignment = True, \n",
      "                validate_all = True, \n",
      "                underscore_attrs_are_private = True, \n",
      "                extra = 'forbid', \n",
      "                arbitrary_types_allowed = True):\n",
      "    pass                    \n",
      "\n",
      "\n",
      "class Container(ConfiguredBaseModel):\n",
      "    \n",
      "    things: Optional[List[Union[Thing,Building,Vehicle]]] = Field(default_factory=list)\n",
      "    \n",
      "\n",
      "\n",
      "class Thing(ConfiguredBaseModel):\n",
      "    \n",
      "    type: Literal[\"Thing\"] = Field(\"Thing\")\n",
      "    \n",
      "\n",
      "\n",
      "class Building(Thing):\n",
      "    \n",
      "    num_floors: Optional[int] = Field(None)\n",
      "    type: Literal[\"Building\"] = Field(\"Building\")\n",
      "    \n",
      "\n",
      "\n",
      "class Vehicle(Thing):\n",
      "    \n",
      "    num_wheels: Optional[int] = Field(None)\n",
      "    type: Literal[\"Vehicle\"] = Field(\"Vehicle\")\n",
      "    \n",
      "\n",
      "\n",
      "\n",
      "# Update forward refs\n",
      "# see https://pydantic-docs.helpmanual.io/usage/postponed_annotations/\n",
      "Container.update_forward_refs()\n",
      "Thing.update_forward_refs()\n",
      "Building.update_forward_refs()\n",
      "Vehicle.update_forward_refs()\n",
      "\n"
     ]
    }
   ],
   "source": [
    "print(gen.serialize())"
   ]
  },
  {
   "cell_type": "code",
   "execution_count": 41,
   "id": "ed4dae50",
   "metadata": {},
   "outputs": [],
   "source": [
    "mod = gen.compile_module()"
   ]
  },
  {
   "cell_type": "code",
   "execution_count": 42,
   "id": "68b8b0c1",
   "metadata": {},
   "outputs": [
    {
     "data": {
      "text/plain": [
       "Container(things=[Vehicle(type='Vehicle', num_wheels=2)])"
      ]
     },
     "execution_count": 42,
     "metadata": {},
     "output_type": "execute_result"
    }
   ],
   "source": [
    "mod.Container.parse_obj({\"things\": [{\"type\": \"Vehicle\", \"num_wheels\": 2}]})"
   ]
  },
  {
   "cell_type": "code",
   "execution_count": 43,
   "id": "edd152f5",
   "metadata": {},
   "outputs": [],
   "source": [
    "import pytest"
   ]
  },
  {
   "cell_type": "code",
   "execution_count": 44,
   "id": "23f2c500",
   "metadata": {},
   "outputs": [],
   "source": [
    "with pytest.raises(ValueError):\n",
    "  mod.Container.parse_obj({\"things\": [{\"type\": \"Vehicle\", \"num_floors\": 4}]})"
   ]
  },
  {
   "cell_type": "code",
   "execution_count": 45,
   "id": "46081bd4",
   "metadata": {},
   "outputs": [
    {
     "data": {
      "text/plain": [
       "Container(things=[Vehicle(type='Vehicle', num_wheels=2)])"
      ]
     },
     "execution_count": 45,
     "metadata": {},
     "output_type": "execute_result"
    }
   ],
   "source": [
    "mod.Container(things=[mod.Vehicle(num_wheels=2)])"
   ]
  },
  {
   "cell_type": "code",
   "execution_count": 47,
   "id": "3313a7d9",
   "metadata": {},
   "outputs": [],
   "source": [
    "with pytest.raises(ValueError):\n",
    "    mod.Container(things=[mod.Thing(type=\"Vehicle\", num_wheels=2)])"
   ]
  },
  {
   "cell_type": "markdown",
   "id": "da6303ed",
   "metadata": {},
   "source": [
    "## Change type designator range\n",
    "\n",
    "What happens if the range is a curie?"
   ]
  },
  {
   "cell_type": "code",
   "execution_count": 48,
   "id": "5a013aa6",
   "metadata": {},
   "outputs": [
    {
     "name": "stdout",
     "output_type": "stream",
     "text": [
      "from __future__ import annotations\n",
      "from datetime import datetime, date\n",
      "from enum import Enum\n",
      "from typing import List, Dict, Optional, Any, Union, Literal\n",
      "from pydantic import BaseModel as BaseModel, Field\n",
      "from linkml_runtime.linkml_model import Decimal\n",
      "\n",
      "metamodel_version = \"None\"\n",
      "version = \"None\"\n",
      "\n",
      "class WeakRefShimBaseModel(BaseModel):\n",
      "   __slots__ = '__weakref__'\n",
      "    \n",
      "class ConfiguredBaseModel(WeakRefShimBaseModel,\n",
      "                validate_assignment = True, \n",
      "                validate_all = True, \n",
      "                underscore_attrs_are_private = True, \n",
      "                extra = 'forbid', \n",
      "                arbitrary_types_allowed = True):\n",
      "    pass                    \n",
      "\n",
      "\n",
      "class Container(ConfiguredBaseModel):\n",
      "    \n",
      "    things: Optional[List[Union[Thing,Building,Vehicle]]] = Field(default_factory=list)\n",
      "    \n",
      "\n",
      "\n",
      "class Thing(ConfiguredBaseModel):\n",
      "    \n",
      "    type: Literal[\"https://example.org/Thing\",\"example:Thing\"] = Field(\"example:Thing\")\n",
      "    \n",
      "\n",
      "\n",
      "class Building(Thing):\n",
      "    \n",
      "    num_floors: Optional[int] = Field(None)\n",
      "    type: Literal[\"https://example.org/Building\",\"example:Building\"] = Field(\"example:Building\")\n",
      "    \n",
      "\n",
      "\n",
      "class Vehicle(Thing):\n",
      "    \n",
      "    num_wheels: Optional[int] = Field(None)\n",
      "    type: Literal[\"https://example.org/Vehicle\",\"example:Vehicle\"] = Field(\"example:Vehicle\")\n",
      "    \n",
      "\n",
      "\n",
      "\n",
      "# Update forward refs\n",
      "# see https://pydantic-docs.helpmanual.io/usage/postponed_annotations/\n",
      "Container.update_forward_refs()\n",
      "Thing.update_forward_refs()\n",
      "Building.update_forward_refs()\n",
      "Vehicle.update_forward_refs()\n",
      "\n"
     ]
    }
   ],
   "source": [
    "schema.classes[\"Thing\"].attributes[\"type\"].range = \"uriorcurie\"\n",
    "gen = PydanticGenerator(schema, log_level=ERROR)\n",
    "mod = gen.compile_module()\n",
    "print(gen.serialize())"
   ]
  },
  {
   "cell_type": "code",
   "execution_count": 49,
   "id": "73eacb9d",
   "metadata": {},
   "outputs": [
    {
     "data": {
      "text/plain": [
       "Container(things=[Vehicle(type='example:Vehicle', num_wheels=2)])"
      ]
     },
     "execution_count": 49,
     "metadata": {},
     "output_type": "execute_result"
    }
   ],
   "source": [
    "mod.Container.parse_obj({\"things\": [{\"type\": \"example:Vehicle\", \"num_wheels\": 2}]})"
   ]
  },
  {
   "cell_type": "code",
   "execution_count": 50,
   "id": "161b1224",
   "metadata": {},
   "outputs": [
    {
     "name": "stdout",
     "output_type": "stream",
     "text": [
      "from __future__ import annotations\n",
      "from datetime import datetime, date\n",
      "from enum import Enum\n",
      "from typing import List, Dict, Optional, Any, Union, Literal\n",
      "from pydantic import BaseModel as BaseModel, Field\n",
      "from linkml_runtime.linkml_model import Decimal\n",
      "\n",
      "metamodel_version = \"None\"\n",
      "version = \"None\"\n",
      "\n",
      "class WeakRefShimBaseModel(BaseModel):\n",
      "   __slots__ = '__weakref__'\n",
      "    \n",
      "class ConfiguredBaseModel(WeakRefShimBaseModel,\n",
      "                validate_assignment = True, \n",
      "                validate_all = True, \n",
      "                underscore_attrs_are_private = True, \n",
      "                extra = 'forbid', \n",
      "                arbitrary_types_allowed = True):\n",
      "    pass                    \n",
      "\n",
      "\n",
      "class Container(ConfiguredBaseModel):\n",
      "    \n",
      "    things: Optional[List[Union[Thing,Building,Vehicle]]] = Field(default_factory=list)\n",
      "    \n",
      "\n",
      "\n",
      "class Thing(ConfiguredBaseModel):\n",
      "    \n",
      "    type: Literal[\"https://example.org/Thing\",\"example:Thing\"] = Field(\"https://example.org/Thing\")\n",
      "    \n",
      "\n",
      "\n",
      "class Building(Thing):\n",
      "    \n",
      "    num_floors: Optional[int] = Field(None)\n",
      "    type: Literal[\"https://example.org/Building\",\"example:Building\"] = Field(\"https://example.org/Building\")\n",
      "    \n",
      "\n",
      "\n",
      "class Vehicle(Thing):\n",
      "    \n",
      "    num_wheels: Optional[int] = Field(None)\n",
      "    type: Literal[\"https://example.org/Vehicle\",\"example:Vehicle\"] = Field(\"https://example.org/Vehicle\")\n",
      "    \n",
      "\n",
      "\n",
      "\n",
      "# Update forward refs\n",
      "# see https://pydantic-docs.helpmanual.io/usage/postponed_annotations/\n",
      "Container.update_forward_refs()\n",
      "Thing.update_forward_refs()\n",
      "Building.update_forward_refs()\n",
      "Vehicle.update_forward_refs()\n",
      "\n"
     ]
    }
   ],
   "source": [
    "schema.classes[\"Thing\"].attributes[\"type\"].range = \"uri\"\n",
    "gen = PydanticGenerator(schema, log_level=ERROR)\n",
    "mod = gen.compile_module()\n",
    "print(gen.serialize())"
   ]
  },
  {
   "cell_type": "markdown",
   "id": "57680a2d",
   "metadata": {},
   "source": [
    "## Data Classes"
   ]
  },
  {
   "cell_type": "code",
   "execution_count": 29,
   "id": "7412538e",
   "metadata": {},
   "outputs": [
    {
     "name": "stdout",
     "output_type": "stream",
     "text": [
      "# Auto generated from None by pythongen.py version: 0.9.0\n",
      "# Generation date: 2023-03-24T19:39:32\n",
      "# Schema: example\n",
      "#\n",
      "# id: https://example.org/\n",
      "# description:\n",
      "# license: https://creativecommons.org/publicdomain/zero/1.0/\n",
      "\n",
      "import dataclasses\n",
      "import sys\n",
      "import re\n",
      "from jsonasobj2 import JsonObj, as_dict\n",
      "from typing import Optional, List, Union, Dict, ClassVar, Any\n",
      "from dataclasses import dataclass\n",
      "from linkml_runtime.linkml_model.meta import EnumDefinition, PermissibleValue, PvFormulaOptions\n",
      "\n",
      "from linkml_runtime.utils.slot import Slot\n",
      "from linkml_runtime.utils.metamodelcore import empty_list, empty_dict, bnode\n",
      "from linkml_runtime.utils.yamlutils import YAMLRoot, extended_str, extended_float, extended_int\n",
      "from linkml_runtime.utils.dataclass_extensions_376 import dataclasses_init_fn_with_kwargs\n",
      "from linkml_runtime.utils.formatutils import camelcase, underscore, sfx\n",
      "from linkml_runtime.utils.enumerations import EnumDefinitionImpl\n",
      "from rdflib import Namespace, URIRef\n",
      "from linkml_runtime.utils.curienamespace import CurieNamespace\n",
      "from linkml_runtime.linkml_model.types import Integer, String\n",
      "\n",
      "metamodel_version = \"1.7.0\"\n",
      "version = None\n",
      "\n",
      "# Overwrite dataclasses _init_fn to add **kwargs in __init__\n",
      "dataclasses._init_fn = dataclasses_init_fn_with_kwargs\n",
      "\n",
      "# Namespaces\n",
      "EXAMPLE = CurieNamespace('example', 'https://example.org/')\n",
      "LINKML = CurieNamespace('linkml', 'https://w3id.org/linkml/')\n",
      "DEFAULT_ = EXAMPLE\n",
      "\n",
      "\n",
      "# Types\n",
      "\n",
      "# Class references\n",
      "\n",
      "\n",
      "\n",
      "@dataclass\n",
      "class Thing(YAMLRoot):\n",
      "    _inherited_slots: ClassVar[List[str]] = []\n",
      "\n",
      "    class_class_uri: ClassVar[URIRef] = EXAMPLE.Thing\n",
      "    class_class_curie: ClassVar[str] = \"example:Thing\"\n",
      "    class_name: ClassVar[str] = \"Thing\"\n",
      "    class_model_uri: ClassVar[URIRef] = EXAMPLE.Thing\n",
      "\n",
      "    type: Optional[str] = None\n",
      "\n",
      "    def __post_init__(self, *_: List[str], **kwargs: Dict[str, Any]):\n",
      "        if self.type is not None and not isinstance(self.type, str):\n",
      "            self.type = str(self.type)\n",
      "\n",
      "        super().__post_init__(**kwargs)\n",
      "\n",
      "\n",
      "@dataclass\n",
      "class Vehicle(Thing):\n",
      "    _inherited_slots: ClassVar[List[str]] = []\n",
      "\n",
      "    class_class_uri: ClassVar[URIRef] = EXAMPLE.Vehicle\n",
      "    class_class_curie: ClassVar[str] = \"example:Vehicle\"\n",
      "    class_name: ClassVar[str] = \"Vehicle\"\n",
      "    class_model_uri: ClassVar[URIRef] = EXAMPLE.Vehicle\n",
      "\n",
      "    num_wheels: Optional[int] = None\n",
      "\n",
      "    def __post_init__(self, *_: List[str], **kwargs: Dict[str, Any]):\n",
      "        if self.num_wheels is not None and not isinstance(self.num_wheels, int):\n",
      "            self.num_wheels = int(self.num_wheels)\n",
      "\n",
      "        super().__post_init__(**kwargs)\n",
      "\n",
      "\n",
      "@dataclass\n",
      "class Building(Thing):\n",
      "    _inherited_slots: ClassVar[List[str]] = []\n",
      "\n",
      "    class_class_uri: ClassVar[URIRef] = EXAMPLE.Building\n",
      "    class_class_curie: ClassVar[str] = \"example:Building\"\n",
      "    class_name: ClassVar[str] = \"Building\"\n",
      "    class_model_uri: ClassVar[URIRef] = EXAMPLE.Building\n",
      "\n",
      "    num_floors: Optional[int] = None\n",
      "\n",
      "    def __post_init__(self, *_: List[str], **kwargs: Dict[str, Any]):\n",
      "        if self.num_floors is not None and not isinstance(self.num_floors, int):\n",
      "            self.num_floors = int(self.num_floors)\n",
      "\n",
      "        super().__post_init__(**kwargs)\n",
      "\n",
      "\n",
      "@dataclass\n",
      "class Container(YAMLRoot):\n",
      "    _inherited_slots: ClassVar[List[str]] = []\n",
      "\n",
      "    class_class_uri: ClassVar[URIRef] = EXAMPLE.Container\n",
      "    class_class_curie: ClassVar[str] = \"example:Container\"\n",
      "    class_name: ClassVar[str] = \"Container\"\n",
      "    class_model_uri: ClassVar[URIRef] = EXAMPLE.Container\n",
      "\n",
      "    things: Optional[Union[Union[dict, Thing], List[Union[dict, Thing]]]] = empty_list()\n",
      "\n",
      "    def __post_init__(self, *_: List[str], **kwargs: Dict[str, Any]):\n",
      "        if not isinstance(self.things, list):\n",
      "            self.things = [self.things] if self.things is not None else []\n",
      "        self.things = [v if isinstance(v, Thing) else Thing(**as_dict(v)) for v in self.things]\n",
      "\n",
      "        super().__post_init__(**kwargs)\n",
      "\n",
      "\n",
      "# Enumerations\n",
      "\n",
      "\n",
      "# Slots\n",
      "class slots:\n",
      "    pass\n",
      "\n",
      "slots.thing__type = Slot(uri=EXAMPLE.type, name=\"thing__type\", curie=EXAMPLE.curie('type'),\n",
      "                   model_uri=EXAMPLE.thing__type, domain=None, range=Optional[str])\n",
      "\n",
      "slots.vehicle__num_wheels = Slot(uri=EXAMPLE.num_wheels, name=\"vehicle__num_wheels\", curie=EXAMPLE.curie('num_wheels'),\n",
      "                   model_uri=EXAMPLE.vehicle__num_wheels, domain=None, range=Optional[int])\n",
      "\n",
      "slots.building__num_floors = Slot(uri=EXAMPLE.num_floors, name=\"building__num_floors\", curie=EXAMPLE.curie('num_floors'),\n",
      "                   model_uri=EXAMPLE.building__num_floors, domain=None, range=Optional[int])\n",
      "\n",
      "slots.container__things = Slot(uri=EXAMPLE.things, name=\"container__things\", curie=EXAMPLE.curie('things'),\n",
      "                   model_uri=EXAMPLE.container__things, domain=None, range=Optional[Union[Union[dict, Thing], List[Union[dict, Thing]]]])\n"
     ]
    }
   ],
   "source": [
    "from linkml.generators.pythongen import PythonGenerator\n",
    "from logging import ERROR\n",
    "\n",
    "# Note: Jupyter appears to generate output even if the log_level is set.\n",
    "gen = PythonGenerator(model, log_level=ERROR)\n",
    "print(gen.serialize())"
   ]
  },
  {
   "cell_type": "markdown",
   "id": "673e03c5",
   "metadata": {},
   "source": [
    "## Any Of"
   ]
  },
  {
   "cell_type": "code",
   "execution_count": 56,
   "id": "5471eebf",
   "metadata": {},
   "outputs": [
    {
     "data": {
      "application/javascript": [
       "\n",
       "            require(\n",
       "                [\n",
       "                    \"notebook/js/codecell\",\n",
       "                    \"codemirror/mode/yaml/yaml\"\n",
       "                ],\n",
       "                function(cc){\n",
       "                    cc.CodeCell.options_default.highlight_modes.magic_yaml = {\n",
       "                        reg: [\"^%%yaml\"]\n",
       "                    }\n",
       "                }\n",
       "            );\n",
       "            "
      ],
      "text/plain": [
       "<IPython.core.display.Javascript object>"
      ]
     },
     "metadata": {},
     "output_type": "display_data"
    }
   ],
   "source": [
    "%%yaml model\n",
    "id: https://example.org/\n",
    "name: example\n",
    "prefixes:\n",
    "  example: https://example.org/\n",
    "  linkml: https://w3id.org/linkml/\n",
    "default_prefix: example\n",
    "imports:\n",
    "  - linkml:types\n",
    "\n",
    "classes:\n",
    "  Thing:\n",
    "    attributes:\n",
    "      type:\n",
    "        designates_type: true\n",
    "        range: string\n",
    "  Vehicle:\n",
    "    is_a: Thing\n",
    "    attributes:\n",
    "      num_wheels:\n",
    "        range: integer\n",
    "  Car:\n",
    "    is_a: Vehicle\n",
    "    slot_usage:\n",
    "      num_wheels:\n",
    "        equals_expression: \"2\"\n",
    "  Bicycle:\n",
    "    is_a: Vehicle\n",
    "    slot_usage:\n",
    "      num_wheels:\n",
    "        equals_expression: \"4\"\n",
    "  Building:\n",
    "    is_a: Thing\n",
    "    attributes:\n",
    "      num_floors:\n",
    "        range: integer\n",
    "        \n",
    "  Container:\n",
    "    attributes:\n",
    "      things:\n",
    "        any_of:\n",
    "          - range: Vehicle\n",
    "          - range: Building\n",
    "        multivalued: true\n",
    "    "
   ]
  },
  {
   "cell_type": "code",
   "execution_count": 57,
   "id": "eb108020",
   "metadata": {},
   "outputs": [],
   "source": [
    "model_str = yaml.dump(model)\n",
    "sv = SchemaView(model_str)\n",
    "schema = sv.schema"
   ]
  },
  {
   "cell_type": "code",
   "execution_count": 58,
   "id": "5125a057",
   "metadata": {},
   "outputs": [
    {
     "name": "stdout",
     "output_type": "stream",
     "text": [
      "from __future__ import annotations\n",
      "from datetime import datetime, date\n",
      "from enum import Enum\n",
      "from typing import List, Dict, Optional, Any, Union, Literal\n",
      "from pydantic import BaseModel as BaseModel, Field\n",
      "from linkml_runtime.linkml_model import Decimal\n",
      "\n",
      "metamodel_version = \"None\"\n",
      "version = \"None\"\n",
      "\n",
      "class WeakRefShimBaseModel(BaseModel):\n",
      "   __slots__ = '__weakref__'\n",
      "    \n",
      "class ConfiguredBaseModel(WeakRefShimBaseModel,\n",
      "                validate_assignment = True, \n",
      "                validate_all = True, \n",
      "                underscore_attrs_are_private = True, \n",
      "                extra = 'forbid', \n",
      "                arbitrary_types_allowed = True):\n",
      "    pass                    \n",
      "\n",
      "\n",
      "class Container(ConfiguredBaseModel):\n",
      "    \n",
      "    things: Optional[List[Union[Building, Union[Vehicle,Bicycle,Car]]]] = Field(default_factory=list)\n",
      "    \n",
      "\n",
      "\n",
      "class Thing(ConfiguredBaseModel):\n",
      "    \n",
      "    type: Literal[\"Thing\"] = Field(\"Thing\")\n",
      "    \n",
      "\n",
      "\n",
      "class Building(Thing):\n",
      "    \n",
      "    num_floors: Optional[int] = Field(None)\n",
      "    type: Literal[\"Building\"] = Field(\"Building\")\n",
      "    \n",
      "\n",
      "\n",
      "class Vehicle(Thing):\n",
      "    \n",
      "    num_wheels: Optional[int] = Field(None)\n",
      "    type: Literal[\"Vehicle\"] = Field(\"Vehicle\")\n",
      "    \n",
      "\n",
      "\n",
      "class Bicycle(Vehicle):\n",
      "    \n",
      "    num_wheels: Optional[int] = Field(None)\n",
      "    type: Literal[\"Bicycle\"] = Field(\"Bicycle\")\n",
      "    \n",
      "\n",
      "\n",
      "class Car(Vehicle):\n",
      "    \n",
      "    num_wheels: Optional[int] = Field(None)\n",
      "    type: Literal[\"Car\"] = Field(\"Car\")\n",
      "    \n",
      "\n",
      "\n",
      "\n",
      "# Update forward refs\n",
      "# see https://pydantic-docs.helpmanual.io/usage/postponed_annotations/\n",
      "Container.update_forward_refs()\n",
      "Thing.update_forward_refs()\n",
      "Building.update_forward_refs()\n",
      "Vehicle.update_forward_refs()\n",
      "Bicycle.update_forward_refs()\n",
      "Car.update_forward_refs()\n",
      "\n"
     ]
    }
   ],
   "source": [
    "gen = PydanticGenerator(schema, log_level=ERROR)\n",
    "mod = gen.compile_module()\n",
    "print(gen.serialize())"
   ]
  },
  {
   "cell_type": "code",
   "execution_count": 59,
   "id": "2599c367",
   "metadata": {},
   "outputs": [],
   "source": [
    "# TODO: flatten unions"
   ]
  },
  {
   "cell_type": "code",
   "execution_count": 63,
   "id": "52a742f8",
   "metadata": {},
   "outputs": [
    {
     "data": {
      "text/plain": [
       "Container(things=[Vehicle(type='Vehicle', num_wheels=None)])"
      ]
     },
     "execution_count": 63,
     "metadata": {},
     "output_type": "execute_result"
    }
   ],
   "source": [
    "mod.Container.parse_obj({\"things\": [{\"type\": \"Vehicle\"}]})"
   ]
  },
  {
   "cell_type": "code",
   "execution_count": 64,
   "id": "23f35fee",
   "metadata": {},
   "outputs": [],
   "source": [
    "# TODO: expressions"
   ]
  },
  {
   "cell_type": "markdown",
   "id": "da4ea59b",
   "metadata": {},
   "source": [
    "## Union Of"
   ]
  },
  {
   "cell_type": "code",
   "execution_count": null,
   "id": "cbfe94d5",
   "metadata": {},
   "outputs": [],
   "source": []
  },
  {
   "cell_type": "code",
   "execution_count": 56,
   "id": "7d897da4",
   "metadata": {},
   "outputs": [
    {
     "data": {
      "application/javascript": [
       "\n",
       "            require(\n",
       "                [\n",
       "                    \"notebook/js/codecell\",\n",
       "                    \"codemirror/mode/yaml/yaml\"\n",
       "                ],\n",
       "                function(cc){\n",
       "                    cc.CodeCell.options_default.highlight_modes.magic_yaml = {\n",
       "                        reg: [\"^%%yaml\"]\n",
       "                    }\n",
       "                }\n",
       "            );\n",
       "            "
      ],
      "text/plain": [
       "<IPython.core.display.Javascript object>"
      ]
     },
     "metadata": {},
     "output_type": "display_data"
    }
   ],
   "source": [
    "%%yaml model\n",
    "id: https://example.org/\n",
    "name: example\n",
    "prefixes:\n",
    "  example: https://example.org/\n",
    "  linkml: https://w3id.org/linkml/\n",
    "default_prefix: example\n",
    "imports:\n",
    "  - linkml:types\n",
    "\n",
    "classes:\n",
    "  Thing:\n",
    "    attributes:\n",
    "      type:\n",
    "        designates_type: true\n",
    "        range: string\n",
    "  Vehicle:\n",
    "    is_a: Thing\n",
    "    attributes:\n",
    "      num_wheels:\n",
    "        range: integer\n",
    "  Car:\n",
    "    is_a: Vehicle\n",
    "    slot_usage:\n",
    "      num_wheels:\n",
    "        equals_expression: \"2\"\n",
    "  Bicycle:\n",
    "    is_a: Vehicle\n",
    "    slot_usage:\n",
    "      num_wheels:\n",
    "        equals_expression: \"4\"\n",
    "  Building:\n",
    "    is_a: Thing\n",
    "    attributes:\n",
    "      num_floors:\n",
    "        range: integer\n",
    "        \n",
    "  Container:\n",
    "    attributes:\n",
    "      things:\n",
    "        any_of:\n",
    "          - range: Vehicle\n",
    "          - range: Building\n",
    "        multivalued: true\n",
    "    "
   ]
  }
 ],
 "metadata": {
  "kernelspec": {
   "display_name": "Python 3 (ipykernel)",
   "language": "python",
   "name": "python3"
  },
  "language_info": {
   "codemirror_mode": {
    "name": "ipython",
    "version": 3
   },
   "file_extension": ".py",
   "mimetype": "text/x-python",
   "name": "python",
   "nbconvert_exporter": "python",
   "pygments_lexer": "ipython3",
   "version": "3.9.5"
  }
 },
 "nbformat": 4,
 "nbformat_minor": 5
}
