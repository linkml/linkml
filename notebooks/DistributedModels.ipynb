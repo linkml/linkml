{
 "cells": [
  {
   "cell_type": "markdown",
   "metadata": {
    "collapsed": true,
    "pycharm": {
     "name": "#%% md\n"
    }
   },
   "source": [
    "# How to extend a LinkML modeling language (LinkML) model\n",
    "\n"
   ]
  },
  {
   "cell_type": "code",
   "execution_count": 1,
   "metadata": {
    "execution": {
     "iopub.execute_input": "2021-01-05T21:24:15.738278Z",
     "iopub.status.busy": "2021-01-05T21:24:15.737628Z",
     "iopub.status.idle": "2021-01-05T21:24:20.720047Z",
     "shell.execute_reply": "2021-01-05T21:24:20.720641Z"
    },
    "pycharm": {
     "is_executing": false,
     "name": "#%%\n"
    }
   },
   "source": [
    "!pip install -q --disable-pip-version-check yamlmagic\n",
    "!pip install -q --disable-pip-version-check .."
   ],
   "outputs": []
  },
  {
   "cell_type": "code",
   "execution_count": 2,
   "metadata": {
    "execution": {
     "iopub.execute_input": "2021-01-05T21:24:20.725891Z",
     "iopub.status.busy": "2021-01-05T21:24:20.725184Z",
     "iopub.status.idle": "2021-01-05T21:24:20.748024Z",
     "shell.execute_reply": "2021-01-05T21:24:20.748451Z"
    }
   },
   "source": [
    "%load_ext yamlmagic"
   ],
   "outputs": []
  },
  {
   "cell_type": "code",
   "execution_count": 3,
   "metadata": {
    "execution": {
     "iopub.execute_input": "2021-01-05T21:24:20.755951Z",
     "iopub.status.busy": "2021-01-05T21:24:20.755459Z",
     "iopub.status.idle": "2021-01-05T21:24:20.763362Z",
     "shell.execute_reply": "2021-01-05T21:24:20.763646Z"
    },
    "pycharm": {
     "is_executing": false,
     "name": "#%%\n"
    }
   },
   "source": [
    "%%yaml model\n",
    "\n",
    "# Every model must have a globally unique URI. This is the external name of the model\n",
    "id: http://example.org/examples/distributeExample\n",
    "\n",
    "# Every model should also have a globally unique name (well, global within the context of the particular modeling environment)\n",
    "name: dist1\n",
    "\n",
    "# Descriptions are always useful, but not required\n",
    "description: A toy extension to the base biolink model\n",
    "\n",
    "# Versions are recommended but not required.  The version is copied into the output artifacts.  An error will be raised\n",
    "# if two different versions of the same model are imported\n",
    "version: 0.0.1\n",
    "\n",
    "# A license is not required at this point -- should it be?\n",
    "license: https://creativecommons.org/publicdomain/zero/1.0/\n",
    "\n",
    "# Prefixes can be assigned specifically.  We define two below:\n",
    "#   biolink -- the prefix used by the biolink-model\n",
    "#   dist1 -- the URI prefix used by this example.  Note that the dist1 prefix may or may not align with the model id\n",
    "prefixes:\n",
    "  biolink: https://w3id.org/biolink/vocab/\n",
    "  linkml: https://w3id.org/linkml/\n",
    "  dist: http://example.org/examples/dist1#\n",
    "\n",
    "# Prefixes can also be pulled from a prefixcommons compliant site. The map below uses the definitions found in\n",
    "#     https://github.com/prefixcommons/biocontext/blob/master/registry/semweb_context.yaml.\n",
    "default_curi_maps:\n",
    "  - semweb_context\n",
    "\n",
    "# The default prefix is what is used in the subsets, types, slots, classes sections below if not otherwise supplied\n",
    "default_prefix:  dist\n",
    "default_range: string\n",
    "\n",
    "# The list of prefixes to emit target files.  Note that all prefixes that are used elsewhere in the model are automatically\n",
    "# emitted, with the exception of\n",
    "emit_prefixes:\n",
    "    - skos\n",
    "    - rdf\n",
    "    - dist\n",
    "\n",
    "# List of models to import.  Note that import specifications can (currently) be URI's, absolute (file://...file), curies\n",
    "# (biolink:model), or relative (includes/myfile) file names.  Note, however, that this latter form is being deprecated.\n",
    "# The location of imported files can now be specified in an accompanying mapping file.  The imports below reference:\n",
    "#   https://w3id.org/biolink/biolink-model    -- the biolink model\n",
    "#   https://w3id.org/linkml/types  -- the biolink modeling language types definitions\n",
    "imports:\n",
    "  - https://w3id.org/biolink/biolink-model\n",
    "  - linkml:types\n",
    "\n",
    "# Subsets that are defined in this model extension\n",
    "subsets:\n",
    "    experimental:\n",
    "        # A subset should have a description\n",
    "        description: model elements that have not yet been tested\n",
    "\n",
    "# Types that are defined in this model extension\n",
    "types:\n",
    "  gene sequence:\n",
    "    uri: dist:seq\n",
    "    typeof: string\n",
    "    description: A gene sequence\n",
    "\n",
    "# Slots that are defined in this model extension\n",
    "slots:\n",
    "    gene has sequence:\n",
    "        description: A gene pattern\n",
    "        domain: gene\n",
    "        range: gene sequence\n",
    "        slot_uri: dist:hasSeq\n",
    "        required: true\n",
    "\n",
    "# Classes that are defined in this model extension\n",
    "classes:\n",
    "    # The class name.  For most generators, this will be transformed to CamelCase (MyGene)\n",
    "    my gene:\n",
    "        description: This is an example extension.  Doesn't do a lot\n",
    "        is_a: gene\n",
    "        slots:\n",
    "            - gene has sequence\n",
    "\n"
   ],
   "outputs": []
  },
  {
   "cell_type": "code",
   "execution_count": 4,
   "metadata": {
    "execution": {
     "iopub.execute_input": "2021-01-05T21:24:20.766865Z",
     "iopub.status.busy": "2021-01-05T21:24:20.766437Z",
     "iopub.status.idle": "2021-01-05T21:24:23.714887Z",
     "shell.execute_reply": "2021-01-05T21:24:23.715199Z"
    }
   },
   "source": [
    "\n",
    "from linkml.generators.pythongen import PythonGenerator\n",
    "from logging import ERROR\n",
    "\n",
    "# Note: Jupyter appears to generate output even if the log_level is set.\n",
    "gen = PythonGenerator(model, log_level=ERROR)\n",
    "print(gen.serialize())"
   ],
   "outputs": []
  },
  {
   "cell_type": "code",
   "execution_count": null,
   "metadata": {},
   "source": [],
   "outputs": []
  }
 ],
 "metadata": {
  "kernelspec": {
   "display_name": "Python 3",
   "language": "python",
   "name": "python3"
  },
  "language_info": {
   "codemirror_mode": {
    "name": "ipython",
    "version": 3
   },
   "file_extension": ".py",
   "mimetype": "text/x-python",
   "name": "python",
   "nbconvert_exporter": "python",
   "pygments_lexer": "ipython3",
   "version": "3.9.1"
  }
 },
 "nbformat": 4,
 "nbformat_minor": 1
}
