{
 "cells": [
  {
   "cell_type": "markdown",
   "metadata": {},
   "source": [
    "# Biolink Metamodel Test Notebook"
   ]
  },
  {
   "cell_type": "code",
   "execution_count": 1,
   "metadata": {
    "execution": {
     "iopub.execute_input": "2021-04-02T22:12:19.348629Z",
     "iopub.status.busy": "2021-04-02T22:12:19.347893Z",
     "iopub.status.idle": "2021-04-02T22:12:21.068424Z",
     "shell.execute_reply": "2021-04-02T22:12:21.068833Z"
    }
   },
   "source": [
    "!pip -q --disable-pip-version-check install yamlmagic\n",
    "%reload_ext yamlmagic"
   ],
   "outputs": []
  },
  {
   "cell_type": "code",
   "execution_count": 1,
   "metadata": {
    "execution": {
     "iopub.execute_input": "2021-04-02T22:12:21.074327Z",
     "iopub.status.busy": "2021-04-02T22:12:21.073079Z",
     "iopub.status.idle": "2021-04-02T22:12:21.668809Z",
     "shell.execute_reply": "2021-04-02T22:12:21.669211Z"
    }
   },
   "source": [
    "from IPython.display import display, HTML\n",
    "from types import ModuleType\n",
    "\n",
    "from jsonasobj import as_json, loads\n",
    "from rdflib import Graph\n",
    "\n",
    "from linkml.generators.jsonldcontextgen import ContextGenerator\n",
    "from linkml.generators.pythongen import PythonGenerator\n",
    "from linkml.generators.shexgen import ShExGenerator\n",
    "from linkml.generators.yumlgen import YumlGenerator\n",
    "from linkml_runtime.utils.yamlutils import DupCheckYamlLoader\n",
    "from linkml.dumpers.json_dumper import dumps"
   ],
   "outputs": []
  },
  {
   "cell_type": "markdown",
   "metadata": {},
   "source": [
    "## Basic model structure\n",
    "A biolink model consists of:\n",
    "* a name\n",
    "* a uri\n",
    "* type definitions\n",
    "* slot definitions\n",
    "* class definitions\n",
    "* subset definitions\n",
    "\n",
    "As an example, the model below defines:"
   ]
  },
  {
   "cell_type": "code",
   "execution_count": 3,
   "metadata": {
    "execution": {
     "iopub.execute_input": "2021-04-02T22:12:21.678874Z",
     "iopub.status.busy": "2021-04-02T22:12:21.678289Z",
     "iopub.status.idle": "2021-04-02T22:12:21.689131Z",
     "shell.execute_reply": "2021-04-02T22:12:21.690011Z"
    }
   },
   "source": [
    "%%yaml --loader DupCheckYamlLoader yaml\n",
    "id: http://example.org/sample/example1\n",
    "name: synopsis2\n",
    "prefixes:\n",
    "    foaf: http://xmlns.com/foaf/0.1/\n",
    "    samp: http://example.org/model/\n",
    "    xsd: http://www.w3.org/2001/XMLSchema#\n",
    "\n",
    "default_prefix: samp\n",
    "\n",
    "default_curi_maps:\n",
    "    - semweb_context\n",
    "\n",
    "default_range: string\n",
    "\n",
    "types:\n",
    "    string:\n",
    "        base: str\n",
    "        uri: xsd:string\n",
    "    int:\n",
    "        base: int\n",
    "        uri: xsd:integer\n",
    "    boolean:\n",
    "        base: Bool\n",
    "        uri: xsd:boolean\n",
    "\n",
    "\n",
    "classes:\n",
    "    person:\n",
    "        description: A person, living or dead\n",
    "        slots:\n",
    "            - id\n",
    "            - first name\n",
    "            - last name\n",
    "            - age\n",
    "            - living\n",
    "            - knows\n",
    "\n",
    "    friendly_person:\n",
    "        description: Any person that knows someone\n",
    "        is_a: person\n",
    "        slot_usage:\n",
    "            knows:\n",
    "                required: True\n",
    "\n",
    "slots:\n",
    "    id:\n",
    "        description: Unique identifier of a person\n",
    "        identifier: true\n",
    "\n",
    "    first name:\n",
    "        description: The first name of a person\n",
    "        slot_uri: foaf:firstName\n",
    "        multivalued: true\n",
    "\n",
    "    last name:\n",
    "        description: The last name of a person\n",
    "        slot_uri: foaf:lastName\n",
    "        required: true\n",
    "\n",
    "    living:\n",
    "        description: Whether the person is alive\n",
    "        range: boolean\n",
    "        comments:\n",
    "            - unspecified means unknown\n",
    "\n",
    "    age:\n",
    "        description: The age of a person if living or age of death if not\n",
    "        range: int\n",
    "        slot_uri: foaf:age\n",
    "\n",
    "    knows:\n",
    "        description: A person known by this person (indicating some level of reciprocated interaction between the parties).\n",
    "        range: person\n",
    "        slot_uri: foaf:knows\n",
    "        multivalued: true"
   ],
   "outputs": []
  },
  {
   "cell_type": "markdown",
   "metadata": {},
   "source": [
    "### We can emit this model as a Python class"
   ]
  },
  {
   "cell_type": "code",
   "execution_count": 4,
   "metadata": {
    "execution": {
     "iopub.execute_input": "2021-04-02T22:12:21.697717Z",
     "iopub.status.busy": "2021-04-02T22:12:21.696871Z",
     "iopub.status.idle": "2021-04-02T22:12:21.761009Z",
     "shell.execute_reply": "2021-04-02T22:12:21.760443Z"
    }
   },
   "source": [
    "print(PythonGenerator(yaml, gen_slots=False).serialize())"
   ],
   "outputs": []
  },
  {
   "cell_type": "markdown",
   "metadata": {},
   "source": [
    "### Compile the python into a module"
   ]
  },
  {
   "cell_type": "code",
   "execution_count": 5,
   "metadata": {
    "execution": {
     "iopub.execute_input": "2021-04-02T22:12:21.768642Z",
     "iopub.status.busy": "2021-04-02T22:12:21.767661Z",
     "iopub.status.idle": "2021-04-02T22:12:21.824510Z",
     "shell.execute_reply": "2021-04-02T22:12:21.824921Z"
    }
   },
   "source": [
    "spec = compile(PythonGenerator(yaml).serialize(), 'test', 'exec')\n",
    "module = ModuleType('test')\n",
    "exec(spec, module.__dict__)"
   ],
   "outputs": []
  },
  {
   "cell_type": "markdown",
   "metadata": {},
   "source": [
    "### We can emit a UML rendering of  this model"
   ]
  },
  {
   "cell_type": "code",
   "execution_count": 6,
   "metadata": {
    "execution": {
     "iopub.execute_input": "2021-04-02T22:12:21.832651Z",
     "iopub.status.busy": "2021-04-02T22:12:21.831978Z",
     "iopub.status.idle": "2021-04-02T22:12:21.890688Z",
     "shell.execute_reply": "2021-04-02T22:12:21.891283Z"
    }
   },
   "source": [
    "display(HTML(f'<img src=\"{YumlGenerator(yaml).serialize()}\"/>'))"
   ],
   "outputs": []
  },
  {
   "cell_type": "markdown",
   "metadata": {},
   "source": [
    "### We can emit a JSON-LD context for the model:"
   ]
  },
  {
   "cell_type": "code",
   "execution_count": 7,
   "metadata": {
    "execution": {
     "iopub.execute_input": "2021-04-02T22:12:21.898783Z",
     "iopub.status.busy": "2021-04-02T22:12:21.898082Z",
     "iopub.status.idle": "2021-04-02T22:12:21.957854Z",
     "shell.execute_reply": "2021-04-02T22:12:21.958634Z"
    }
   },
   "source": [
    "cntxt = ContextGenerator(yaml).serialize(base=\"http://example.org/people/\")\n",
    "print(cntxt)"
   ],
   "outputs": []
  },
  {
   "cell_type": "markdown",
   "metadata": {},
   "source": [
    "### The python model can be used to create classes"
   ]
  },
  {
   "cell_type": "code",
   "execution_count": 8,
   "metadata": {
    "execution": {
     "iopub.execute_input": "2021-04-02T22:12:21.964934Z",
     "iopub.status.busy": "2021-04-02T22:12:21.964154Z",
     "iopub.status.idle": "2021-04-02T22:12:21.967512Z",
     "shell.execute_reply": "2021-04-02T22:12:21.968318Z"
    }
   },
   "source": [
    "# Generate a person\n",
    "joe_smith = module.Person(id=\"42\", last_name=\"smith\", first_name=['Joe', 'Bob'], age=43)\n",
    "print(joe_smith)"
   ],
   "outputs": []
  },
  {
   "cell_type": "markdown",
   "metadata": {},
   "source": [
    "### and can be combined w/ the JSON-LD Context to generate RDF"
   ]
  },
  {
   "cell_type": "code",
   "execution_count": 9,
   "metadata": {
    "execution": {
     "iopub.execute_input": "2021-04-02T22:12:21.974031Z",
     "iopub.status.busy": "2021-04-02T22:12:21.973340Z",
     "iopub.status.idle": "2021-04-02T22:12:21.990949Z",
     "shell.execute_reply": "2021-04-02T22:12:21.991340Z"
    }
   },
   "source": [
    "# Add the context and turn it into RDF\n",
    "jsonld = dumps(joe_smith, cntxt)\n",
    "print(jsonld)\n",
    "g = Graph()\n",
    "g.parse(data=jsonld, format=\"json-ld\")\n",
    "print(g.serialize(format=\"turtle\").decode())"
   ],
   "outputs": []
  },
  {
   "cell_type": "markdown",
   "metadata": {},
   "source": [
    "### The model can be turned into ShEx"
   ]
  },
  {
   "cell_type": "code",
   "execution_count": 10,
   "metadata": {
    "execution": {
     "iopub.execute_input": "2021-04-02T22:12:21.997764Z",
     "iopub.status.busy": "2021-04-02T22:12:21.997122Z",
     "iopub.status.idle": "2021-04-02T22:12:22.067571Z",
     "shell.execute_reply": "2021-04-02T22:12:22.067966Z"
    }
   },
   "source": [
    "shex = ShExGenerator(yaml).serialize(collections=False)\n",
    "print(shex)"
   ],
   "outputs": []
  },
  {
   "cell_type": "markdown",
   "metadata": {},
   "source": [
    "### The ShEx can then be used to validate RDF"
   ]
  },
  {
   "cell_type": "code",
   "execution_count": 11,
   "metadata": {
    "execution": {
     "iopub.execute_input": "2021-04-02T22:12:22.072610Z",
     "iopub.status.busy": "2021-04-02T22:12:22.071675Z",
     "iopub.status.idle": "2021-04-02T22:12:22.224039Z",
     "shell.execute_reply": "2021-04-02T22:12:22.224849Z"
    }
   },
   "source": [
    "from pyshex.evaluate import evaluate\n",
    "r = evaluate(g, shex,\n",
    "             start=\"http://example.org/model/Person\",\n",
    "             focus=\"http://example.org/people/42\")\n",
    "print(\"Conforms\" if r[0] else r[1])"
   ],
   "outputs": []
  },
  {
   "cell_type": "code",
   "execution_count": 12,
   "metadata": {
    "execution": {
     "iopub.execute_input": "2021-04-02T22:12:22.250603Z",
     "iopub.status.busy": "2021-04-02T22:12:22.250047Z",
     "iopub.status.idle": "2021-04-02T22:12:22.252819Z",
     "shell.execute_reply": "2021-04-02T22:12:22.253779Z"
    }
   },
   "source": [
    "r = evaluate(g, shex,\n",
    "             start=\"http://example.org/model/FriendlyPerson\",\n",
    "             focus=\"http://example.org/people/42\")\n",
    "print(\"Conforms\" if r[0] else r[1])"
   ],
   "outputs": []
  },
  {
   "cell_type": "code",
   "execution_count": null,
   "metadata": {},
   "source": [],
   "outputs": []
  }
 ],
 "metadata": {
  "kernelspec": {
   "display_name": "Python 3 (ipykernel)",
   "language": "python",
   "name": "python3"
  },
  "language_info": {
   "codemirror_mode": {
    "name": "ipython",
    "version": 3
   },
   "file_extension": ".py",
   "mimetype": "text/x-python",
   "name": "python",
   "nbconvert_exporter": "python",
   "pygments_lexer": "ipython3",
   "version": "3.7.4"
  }
 },
 "nbformat": 4,
 "nbformat_minor": 2
}
