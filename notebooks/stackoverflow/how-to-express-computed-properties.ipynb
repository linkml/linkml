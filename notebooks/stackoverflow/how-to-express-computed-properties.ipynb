{
 "cells": [
  {
   "cell_type": "markdown",
   "source": [
    "# Validation Example\n",
    "\n",
    "https://stackoverflow.com/questions/77125468/how-to-express-computed-properties-in-linkml-and-get-the-result-when-instantiati"
   ],
   "metadata": {
    "collapsed": false
   },
   "id": "b19962a64121e04d"
  },
  {
   "cell_type": "code",
   "execution_count": 27,
   "outputs": [],
   "source": [
    "PERSON_SCHEMA = \"\"\"\\\n",
    "id: https://stackoverflow.com/questions/77122653/how-to-validate-data-files-with-linkml-model\n",
    "name: how-to-validate-data-files-with-linkml-model\n",
    "prefixes:\n",
    "  linkml: https://w3id.org/linkml/\n",
    "  ex: https://example.org/\n",
    "default_prefix: ex\n",
    "imports:\n",
    "  - linkml:types\n",
    "classes:\n",
    "  Person:\n",
    "    attributes:\n",
    "      name:\n",
    "        required: true\n",
    "    \n",
    "      weight:\n",
    "        range: float\n",
    "    \n",
    "      height:\n",
    "        range: float\n",
    "    \n",
    "      bmi:\n",
    "        range: float\n",
    "        equals_expression: \"weight / (height * height)\"\n",
    "\"\"\""
   ],
   "metadata": {
    "collapsed": false,
    "ExecuteTime": {
     "end_time": "2023-11-23T02:03:13.329391Z",
     "start_time": "2023-11-23T02:03:13.232203Z"
    }
   },
   "id": "f86a06a8902a4455"
  },
  {
   "cell_type": "code",
   "execution_count": 28,
   "outputs": [],
   "source": [
    "!mkdir -p tmp"
   ],
   "metadata": {
    "collapsed": false,
    "ExecuteTime": {
     "end_time": "2023-11-23T02:03:13.480451Z",
     "start_time": "2023-11-23T02:03:13.237021Z"
    }
   },
   "id": "773ce1dac4fd5937"
  },
  {
   "cell_type": "code",
   "execution_count": 29,
   "outputs": [],
   "source": [
    "with open(\"tmp/person.yaml\", \"w\") as f:\n",
    "    f.write(PERSON_SCHEMA)"
   ],
   "metadata": {
    "collapsed": false,
    "ExecuteTime": {
     "end_time": "2023-11-23T02:03:13.480642Z",
     "start_time": "2023-11-23T02:03:13.414552Z"
    }
   },
   "id": "77a3217bd3c09085"
  },
  {
   "cell_type": "code",
   "execution_count": 30,
   "outputs": [
    {
     "name": "stdout",
     "output_type": "stream",
     "text": [
      "INFO:root:Default_range not specified. Default set to 'string'\r\n",
      "INFO:root:Importing linkml:types as /Users/cjm/Library/Caches/pypoetry/virtualenvs/linkml-lavaHNw6-py3.9/lib/python3.9/site-packages/linkml_runtime/linkml_model/model/schema/types from source tmp/person.yaml; base_dir=None\r\n"
     ]
    }
   ],
   "source": [
    "!gen-python tmp/person.yaml > tmp/person.py"
   ],
   "metadata": {
    "collapsed": false,
    "ExecuteTime": {
     "end_time": "2023-11-23T02:03:15.277932Z",
     "start_time": "2023-11-23T02:03:13.419175Z"
    }
   },
   "id": "e14b987c18896793"
  },
  {
   "cell_type": "code",
   "execution_count": 31,
   "outputs": [
    {
     "data": {
      "text/plain": "Person(name='Bob', weight=67.0, height=1.7, bmi=None)"
     },
     "execution_count": 31,
     "metadata": {},
     "output_type": "execute_result"
    }
   ],
   "source": [
    "from tmp.person import Person\n",
    "bob = Person(name=\"Bob\", weight=67, height= 1.7)\n",
    "bob"
   ],
   "metadata": {
    "collapsed": false,
    "ExecuteTime": {
     "end_time": "2023-11-23T02:03:15.285700Z",
     "start_time": "2023-11-23T02:03:15.281708Z"
    }
   },
   "id": "947949e99505e865"
  },
  {
   "cell_type": "code",
   "execution_count": 32,
   "outputs": [],
   "source": [
    "from linkml_runtime.utils.schemaview import SchemaView\n",
    "sv = SchemaView(\"tmp/person.yaml\")"
   ],
   "metadata": {
    "collapsed": false,
    "ExecuteTime": {
     "end_time": "2023-11-23T02:03:15.293011Z",
     "start_time": "2023-11-23T02:03:15.285917Z"
    }
   },
   "id": "f75e92052b39209b"
  },
  {
   "cell_type": "code",
   "execution_count": 32,
   "outputs": [],
   "source": [],
   "metadata": {
    "collapsed": false,
    "ExecuteTime": {
     "end_time": "2023-11-23T02:03:15.295820Z",
     "start_time": "2023-11-23T02:03:15.293524Z"
    }
   },
   "id": "31d66dbc0a3889b1"
  },
  {
   "cell_type": "code",
   "execution_count": 33,
   "outputs": [
    {
     "name": "stderr",
     "output_type": "stream",
     "text": [
      "INFO:root:Importing linkml:types as /Users/cjm/Library/Caches/pypoetry/virtualenvs/linkml-lavaHNw6-py3.9/lib/python3.9/site-packages/linkml_runtime/linkml_model/model/schema/types from source tmp/person.yaml; base_dir=None\n"
     ]
    },
    {
     "name": "stdout",
     "output_type": "stream",
     "text": [
      "Person(name='Bob', weight=67.0, height=1.7, bmi=23.18339100346021)\n"
     ]
    }
   ],
   "source": [
    "from linkml_runtime.utils.inference_utils import infer_all_slot_values\n",
    "from linkml_runtime.utils.inference_utils import Policy, Config\n",
    "\n",
    "infer_all_slot_values(bob, schemaview=sv, config=Config(use_expressions=True))\n",
    "print(bob)"
   ],
   "metadata": {
    "collapsed": false,
    "ExecuteTime": {
     "end_time": "2023-11-23T02:03:15.324399Z",
     "start_time": "2023-11-23T02:03:15.297150Z"
    }
   },
   "id": "1cb7789cc73a978a"
  },
  {
   "cell_type": "code",
   "execution_count": 34,
   "outputs": [
    {
     "name": "stdout",
     "output_type": "stream",
     "text": [
      "Person(name='Bob', weight=67.0, height=1.7, bmi=23.18339100346021)\n"
     ]
    }
   ],
   "source": [
    "print(bob)"
   ],
   "metadata": {
    "collapsed": false,
    "ExecuteTime": {
     "end_time": "2023-11-23T02:03:15.329243Z",
     "start_time": "2023-11-23T02:03:15.324267Z"
    }
   },
   "id": "c92ea0a47aed95e6"
  },
  {
   "cell_type": "code",
   "execution_count": 34,
   "outputs": [],
   "source": [],
   "metadata": {
    "collapsed": false,
    "ExecuteTime": {
     "end_time": "2023-11-23T02:03:15.329661Z",
     "start_time": "2023-11-23T02:03:15.328558Z"
    }
   },
   "id": "fb0a3128eb3cee7d"
  }
 ],
 "metadata": {
  "kernelspec": {
   "display_name": "Python 3",
   "language": "python",
   "name": "python3"
  },
  "language_info": {
   "codemirror_mode": {
    "name": "ipython",
    "version": 2
   },
   "file_extension": ".py",
   "mimetype": "text/x-python",
   "name": "python",
   "nbconvert_exporter": "python",
   "pygments_lexer": "ipython2",
   "version": "2.7.6"
  }
 },
 "nbformat": 4,
 "nbformat_minor": 5
}
