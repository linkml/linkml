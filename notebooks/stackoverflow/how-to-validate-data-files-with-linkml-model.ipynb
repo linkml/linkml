{
 "cells": [
  {
   "cell_type": "markdown",
   "source": [
    "# Validation Example\n",
    "\n",
    "https://stackoverflow.com/questions/77122653/how-to-validate-data-files-with-linkml-model"
   ],
   "metadata": {
    "collapsed": false
   },
   "id": "b19962a64121e04d"
  },
  {
   "cell_type": "code",
   "execution_count": 9,
   "outputs": [],
   "source": [
    "PERSON_SCHEMA = \"\"\"\\\n",
    "id: https://stackoverflow.com/questions/77122653/how-to-validate-data-files-with-linkml-model\n",
    "name: how-to-validate-data-files-with-linkml-model\n",
    "prefixes:\n",
    "  linkml: https://w3id.org/linkml/\n",
    "  ex: https://example.org/\n",
    "default_prefix: ex\n",
    "imports:\n",
    "  - linkml:types\n",
    "classes:\n",
    "  Person:\n",
    "    attributes:\n",
    "      name:\n",
    "        required: true\n",
    "    \n",
    "      gender:\n",
    "        required: true\n",
    "        range: string\n",
    "    \n",
    "      weight:\n",
    "        required: true\n",
    "        range: decimal\n",
    "    \n",
    "      height:\n",
    "        required: true\n",
    "        range: decimal\n",
    "    \n",
    "      bmi:\n",
    "        range: decimal\n",
    "        equals_expression: \"weight / (height * height)\"\n",
    "\"\"\""
   ],
   "metadata": {
    "collapsed": false,
    "ExecuteTime": {
     "end_time": "2023-11-23T01:32:33.381100Z",
     "start_time": "2023-11-23T01:32:33.369604Z"
    }
   },
   "id": "f86a06a8902a4455"
  },
  {
   "cell_type": "code",
   "execution_count": 10,
   "outputs": [],
   "source": [
    "!mkdir -p tmp"
   ],
   "metadata": {
    "collapsed": false,
    "ExecuteTime": {
     "end_time": "2023-11-23T01:32:34.109316Z",
     "start_time": "2023-11-23T01:32:33.965190Z"
    }
   },
   "id": "773ce1dac4fd5937"
  },
  {
   "cell_type": "code",
   "execution_count": 11,
   "outputs": [],
   "source": [
    "with open(\"tmp/person.yaml\", \"w\") as f:\n",
    "    f.write(PERSON_SCHEMA)"
   ],
   "metadata": {
    "collapsed": false,
    "ExecuteTime": {
     "end_time": "2023-11-23T01:32:34.454696Z",
     "start_time": "2023-11-23T01:32:34.452097Z"
    }
   },
   "id": "77a3217bd3c09085"
  },
  {
   "cell_type": "code",
   "execution_count": 12,
   "outputs": [
    {
     "name": "stdout",
     "output_type": "stream",
     "text": [
      "INFO:root:Default_range not specified. Default set to 'string'\r\n",
      "INFO:root:Importing linkml:types as /Users/cjm/Library/Caches/pypoetry/virtualenvs/linkml-lavaHNw6-py3.9/lib/python3.9/site-packages/linkml_runtime/linkml_model/model/schema/types from source tmp/person.yaml; base_dir=None\r\n"
     ]
    }
   ],
   "source": [
    "!gen-python tmp/person.yaml > tmp/person.py"
   ],
   "metadata": {
    "collapsed": false,
    "ExecuteTime": {
     "end_time": "2023-11-23T01:32:37.251381Z",
     "start_time": "2023-11-23T01:32:35.035585Z"
    }
   },
   "id": "e14b987c18896793"
  },
  {
   "cell_type": "code",
   "execution_count": 13,
   "outputs": [
    {
     "ename": "ValueError",
     "evalue": "gender must be supplied",
     "output_type": "error",
     "traceback": [
      "\u001B[0;31m---------------------------------------------------------------------------\u001B[0m",
      "\u001B[0;31mValueError\u001B[0m                                Traceback (most recent call last)",
      "Cell \u001B[0;32mIn[13], line 2\u001B[0m\n\u001B[1;32m      1\u001B[0m \u001B[38;5;28;01mfrom\u001B[39;00m \u001B[38;5;21;01mtmp\u001B[39;00m\u001B[38;5;21;01m.\u001B[39;00m\u001B[38;5;21;01mperson\u001B[39;00m \u001B[38;5;28;01mimport\u001B[39;00m Person\n\u001B[0;32m----> 2\u001B[0m bob \u001B[38;5;241m=\u001B[39m \u001B[43mPerson\u001B[49m\u001B[43m(\u001B[49m\u001B[43mname\u001B[49m\u001B[38;5;241;43m=\u001B[39;49m\u001B[38;5;124;43m\"\u001B[39;49m\u001B[38;5;124;43mBob\u001B[39;49m\u001B[38;5;124;43m\"\u001B[39;49m\u001B[43m,\u001B[49m\u001B[43m \u001B[49m\u001B[43mweight\u001B[49m\u001B[38;5;241;43m=\u001B[39;49m\u001B[38;5;241;43m67\u001B[39;49m\u001B[43m,\u001B[49m\u001B[43m \u001B[49m\u001B[43mheight\u001B[49m\u001B[38;5;241;43m=\u001B[39;49m\u001B[43m \u001B[49m\u001B[38;5;241;43m1.7\u001B[39;49m\u001B[43m)\u001B[49m\n\u001B[1;32m      3\u001B[0m bob\n",
      "File \u001B[0;32m<string>:8\u001B[0m, in \u001B[0;36m__init__\u001B[0;34m(self, name, gender, weight, height, bmi, **_kwargs)\u001B[0m\n",
      "File \u001B[0;32m~/repos/linkml/notebooks/stackoverflow/tmp/person.py:67\u001B[0m, in \u001B[0;36mPerson.__post_init__\u001B[0;34m(self, *_, **kwargs)\u001B[0m\n\u001B[1;32m     64\u001B[0m     \u001B[38;5;28mself\u001B[39m\u001B[38;5;241m.\u001B[39mname \u001B[38;5;241m=\u001B[39m \u001B[38;5;28mstr\u001B[39m(\u001B[38;5;28mself\u001B[39m\u001B[38;5;241m.\u001B[39mname)\n\u001B[1;32m     66\u001B[0m \u001B[38;5;28;01mif\u001B[39;00m \u001B[38;5;28mself\u001B[39m\u001B[38;5;241m.\u001B[39m_is_empty(\u001B[38;5;28mself\u001B[39m\u001B[38;5;241m.\u001B[39mgender):\n\u001B[0;32m---> 67\u001B[0m     \u001B[38;5;28;43mself\u001B[39;49m\u001B[38;5;241;43m.\u001B[39;49m\u001B[43mMissingRequiredField\u001B[49m\u001B[43m(\u001B[49m\u001B[38;5;124;43m\"\u001B[39;49m\u001B[38;5;124;43mgender\u001B[39;49m\u001B[38;5;124;43m\"\u001B[39;49m\u001B[43m)\u001B[49m\n\u001B[1;32m     68\u001B[0m \u001B[38;5;28;01mif\u001B[39;00m \u001B[38;5;129;01mnot\u001B[39;00m \u001B[38;5;28misinstance\u001B[39m(\u001B[38;5;28mself\u001B[39m\u001B[38;5;241m.\u001B[39mgender, \u001B[38;5;28mstr\u001B[39m):\n\u001B[1;32m     69\u001B[0m     \u001B[38;5;28mself\u001B[39m\u001B[38;5;241m.\u001B[39mgender \u001B[38;5;241m=\u001B[39m \u001B[38;5;28mstr\u001B[39m(\u001B[38;5;28mself\u001B[39m\u001B[38;5;241m.\u001B[39mgender)\n",
      "File \u001B[0;32m~/Library/Caches/pypoetry/virtualenvs/linkml-lavaHNw6-py3.9/lib/python3.9/site-packages/linkml_runtime/utils/yamlutils.py:273\u001B[0m, in \u001B[0;36mYAMLRoot.MissingRequiredField\u001B[0;34m(self, field_name)\u001B[0m\n\u001B[1;32m    271\u001B[0m \u001B[38;5;28;01mdef\u001B[39;00m \u001B[38;5;21mMissingRequiredField\u001B[39m(\u001B[38;5;28mself\u001B[39m, field_name: \u001B[38;5;28mstr\u001B[39m) \u001B[38;5;241m-\u001B[39m\u001B[38;5;241m>\u001B[39m \u001B[38;5;28;01mNone\u001B[39;00m:\n\u001B[1;32m    272\u001B[0m \u001B[38;5;250m    \u001B[39m\u001B[38;5;124;03m\"\"\" Generic loader error handler \"\"\"\u001B[39;00m\n\u001B[0;32m--> 273\u001B[0m     \u001B[38;5;28;01mraise\u001B[39;00m \u001B[38;5;167;01mValueError\u001B[39;00m(\u001B[38;5;124mf\u001B[39m\u001B[38;5;124m\"\u001B[39m\u001B[38;5;132;01m{\u001B[39;00mfield_name\u001B[38;5;132;01m}\u001B[39;00m\u001B[38;5;124m must be supplied\u001B[39m\u001B[38;5;124m\"\u001B[39m)\n",
      "\u001B[0;31mValueError\u001B[0m: gender must be supplied"
     ]
    }
   ],
   "source": [
    "from tmp.person import Person\n",
    "bob = Person(name=\"Bob\", weight=67, height= 1.7)\n",
    "bob"
   ],
   "metadata": {
    "collapsed": false,
    "ExecuteTime": {
     "end_time": "2023-11-23T01:35:06.769488Z",
     "start_time": "2023-11-23T01:35:05.936241Z"
    }
   },
   "id": "947949e99505e865"
  },
  {
   "cell_type": "code",
   "execution_count": 15,
   "outputs": [],
   "source": [
    "bob_dict = {\n",
    "    \"name\": \"Bob\",\n",
    "    \"weight\": 67,\n",
    "    \"height\": 1.7\n",
    "}"
   ],
   "metadata": {
    "collapsed": false,
    "ExecuteTime": {
     "end_time": "2023-11-23T01:37:06.211300Z",
     "start_time": "2023-11-23T01:37:06.206957Z"
    }
   },
   "id": "c9b358b2c448e3c9"
  },
  {
   "cell_type": "code",
   "execution_count": 19,
   "outputs": [
    {
     "name": "stderr",
     "output_type": "stream",
     "text": [
      "INFO:root:Importing linkml:types as /Users/cjm/Library/Caches/pypoetry/virtualenvs/linkml-lavaHNw6-py3.9/lib/python3.9/site-packages/linkml_runtime/linkml_model/model/schema/types from source None; base_dir=None\n",
      "INFO:root:Using SchemaView with im=None\n",
      "INFO:root:Importing linkml:types as /Users/cjm/Library/Caches/pypoetry/virtualenvs/linkml-lavaHNw6-py3.9/lib/python3.9/site-packages/linkml_runtime/linkml_model/model/schema/types from source None; base_dir=None\n"
     ]
    },
    {
     "name": "stdout",
     "output_type": "stream",
     "text": [
      "'gender' is a required property in /\n"
     ]
    }
   ],
   "source": [
    "from linkml.validator import validate\n",
    "\n",
    "report = validate(bob_dict, \"tmp/person.yaml\")\n",
    "for r in report.results:\n",
    "    print(r.message)"
   ],
   "metadata": {
    "collapsed": false,
    "ExecuteTime": {
     "end_time": "2023-11-23T01:43:30.550952Z",
     "start_time": "2023-11-23T01:43:30.487371Z"
    }
   },
   "id": "2de475087e27c6e3"
  },
  {
   "cell_type": "code",
   "execution_count": null,
   "outputs": [],
   "source": [],
   "metadata": {
    "collapsed": false
   },
   "id": "31d66dbc0a3889b1"
  }
 ],
 "metadata": {
  "kernelspec": {
   "display_name": "Python 3",
   "language": "python",
   "name": "python3"
  },
  "language_info": {
   "codemirror_mode": {
    "name": "ipython",
    "version": 2
   },
   "file_extension": ".py",
   "mimetype": "text/x-python",
   "name": "python",
   "nbconvert_exporter": "python",
   "pygments_lexer": "ipython2",
   "version": "2.7.6"
  }
 },
 "nbformat": 4,
 "nbformat_minor": 5
}
