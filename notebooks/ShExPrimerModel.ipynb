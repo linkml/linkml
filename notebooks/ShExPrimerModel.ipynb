{
 "cells": [
  {
   "cell_type": "markdown",
   "metadata": {
    "collapsed": true
   },
   "source": [
    "# User/Issue model from [ShEx primer](http://shex.io/shex-primer/#simple-expressions)"
   ]
  },
  {
   "cell_type": "code",
   "execution_count": 1,
   "metadata": {
    "execution": {
     "iopub.execute_input": "2021-01-05T21:24:24.644220Z",
     "iopub.status.busy": "2021-01-05T21:24:24.643660Z",
     "iopub.status.idle": "2021-01-05T21:24:25.782030Z",
     "shell.execute_reply": "2021-01-05T21:24:25.782504Z"
    }
   },
   "source": [
    "!pip install linkml --upgrade --disable-pip-version-check -q"
   ],
   "outputs": []
  },
  {
   "cell_type": "code",
   "execution_count": 2,
   "metadata": {
    "execution": {
     "iopub.execute_input": "2021-01-05T21:24:25.789824Z",
     "iopub.status.busy": "2021-01-05T21:24:25.789150Z",
     "iopub.status.idle": "2021-01-05T21:24:26.313052Z",
     "shell.execute_reply": "2021-01-05T21:24:26.313332Z"
    }
   },
   "source": [
    "from linkml.generators.shexgen import ShExGenerator\n",
    "from linkml.generators.pythongen import PythonGenerator\n",
    "\n",
    "model = \"\"\"\n",
    "id: http://shex.io/shex-primer/issueshape\n",
    "title: Issue Shape from ShEx primer\n",
    "name: issue\n",
    "version: 0.1.0\n",
    "\n",
    "prefixes:\n",
    "   issue: http://shex.io/shex-primer/issue/\n",
    "   ex: http://ex.example/#\n",
    "   xsd: http://www.w3.org/2001/XMLSchema#\n",
    "   foaf: http://xmlns.com/foaf/0.1/\n",
    "\n",
    "default_prefix: issue\n",
    "\n",
    "default_range: str\n",
    "\n",
    "types:\n",
    "   str:\n",
    "       base: str\n",
    "       uri: xsd:string\n",
    "\n",
    "   int:\n",
    "      base: int\n",
    "      uri: xsd:integer\n",
    "\n",
    "classes:\n",
    "    person:\n",
    "    enrolee:\n",
    "        is_a: person\n",
    "\n",
    "slots:\n",
    "    name:\n",
    "        domain: person\n",
    "        range: str\n",
    "        key: true\n",
    "\n",
    "    age:\n",
    "        domain: enrolee\n",
    "        range: int\n",
    "        slot_uri: foaf:age\n",
    "\n",
    "    hasGuardian:\n",
    "        domain: enrolee\n",
    "        range: person\n",
    "        multivalued: true\n",
    "        required: true\n",
    "\n",
    "\"\"\"\n",
    "print(PythonGenerator(model).serialize())\n",
    "print(ShExGenerator(model).serialize(collections=False))"
   ],
   "outputs": []
  },
  {
   "cell_type": "code",
   "execution_count": null,
   "metadata": {},
   "source": [],
   "outputs": []
  }
 ],
 "metadata": {
  "kernelspec": {
   "display_name": "Python 3",
   "language": "python",
   "name": "python3"
  },
  "language_info": {
   "codemirror_mode": {
    "name": "ipython",
    "version": 3
   },
   "file_extension": ".py",
   "mimetype": "text/x-python",
   "name": "python",
   "nbconvert_exporter": "python",
   "pygments_lexer": "ipython3",
   "version": "3.9.1"
  }
 },
 "nbformat": 4,
 "nbformat_minor": 1
}
