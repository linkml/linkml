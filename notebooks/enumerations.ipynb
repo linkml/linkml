{
 "cells": [
  {
   "cell_type": "markdown",
   "metadata": {
    "collapsed": true,
    "pycharm": {
     "name": "#%% md\n"
    }
   },
   "source": [
    "# Enumerations\n",
    "LinkML supports a wide spectrum of enumerations, from simple option lists to values come directly from\n",
    "ontologies or pre-defined value sets."
   ]
  },
  {
   "cell_type": "code",
   "execution_count": 1,
   "metadata": {
    "execution": {
     "iopub.execute_input": "2021-04-02T22:12:23.610899Z",
     "iopub.status.busy": "2021-04-02T22:12:23.610318Z",
     "iopub.status.idle": "2021-04-02T22:12:25.354337Z",
     "shell.execute_reply": "2021-04-02T22:12:25.354736Z"
    },
    "pycharm": {
     "name": "#%%\n"
    }
   },
   "source": [
    "!pip install -q --disable-pip-version-check yamlmagic\n",
    "%reload_ext yamlmagic"
   ],
   "outputs": []
  },
  {
   "cell_type": "markdown",
   "metadata": {
    "collapsed": false,
    "pycharm": {
     "name": "#%% md\n"
    }
   },
   "source": [
    "Helper function to compile linkml model to python"
   ]
  },
  {
   "cell_type": "code",
   "execution_count": 2,
   "metadata": {
    "collapsed": false,
    "execution": {
     "iopub.execute_input": "2021-04-02T22:12:25.361154Z",
     "iopub.status.busy": "2021-04-02T22:12:25.360496Z",
     "iopub.status.idle": "2021-04-02T22:12:25.959995Z",
     "shell.execute_reply": "2021-04-02T22:12:25.960446Z"
    },
    "pycharm": {
     "name": "#%%\n"
    }
   },
   "source": [
    "from linkml.generators.pythongen import PythonGenerator\n",
    "from linkml.utils.compile_python import compile_python\n",
    "from linkml_model.meta import SchemaDefinition\n",
    "\n",
    "def compile_model(model: str, print_python: bool=False) -> SchemaDefinition:\n",
    "    gen = PythonGenerator(model, merge_imports=False, gen_classvars=False, gen_slots=False)\n",
    "    code = gen.serialize()\n",
    "    if print_python:\n",
    "        print(code)\n",
    "    return compile_python(code)"
   ],
   "outputs": []
  },
  {
   "cell_type": "markdown",
   "metadata": {},
   "source": [
    "## The simplest form of a LinkML enumeration is a list of tag and (optional) values\n"
   ]
  },
  {
   "cell_type": "code",
   "execution_count": 3,
   "metadata": {
    "collapsed": false,
    "execution": {
     "iopub.execute_input": "2021-04-02T22:12:25.970875Z",
     "iopub.status.busy": "2021-04-02T22:12:25.970135Z",
     "iopub.status.idle": "2021-04-02T22:12:25.978463Z",
     "shell.execute_reply": "2021-04-02T22:12:25.978813Z"
    },
    "pycharm": {
     "name": "#%%\n"
    }
   },
   "source": [
    "%%yaml model\n",
    "\n",
    "id: http://example.org/test/simple\n",
    "name: simple\n",
    "description: Very simple enumeration\n",
    "\n",
    "prefixes:\n",
    "  linkml: https://w3id.org/linkml/\n",
    "  play: http://example.org/test/play/\n",
    "  CS: http://ontologies-r.us/codesystem/\n",
    "\n",
    "default_range: string\n",
    "default_prefix: play\n",
    "\n",
    "\n",
    "imports:\n",
    "  - linkml:types\n",
    "\n",
    "\n",
    "enums:\n",
    "  Position:\n",
    "    description: Baseline enumeration -- simple code/value pairs, where the value (description) is optional\n",
    "    permissible_values:\n",
    "      a: top\n",
    "      b: middle\n",
    "      c: bottom\n",
    "      d:\n",
    "\n",
    "classes:\n",
    "    PositionalRecord:\n",
    "        description: The combination of a unique identifier and with an associated position\n",
    "        attributes:\n",
    "            id:\n",
    "                range: string\n",
    "                identifier: true\n",
    "            position:\n",
    "                range: Position\n",
    "                required: true"
   ],
   "outputs": []
  },
  {
   "cell_type": "code",
   "execution_count": 4,
   "metadata": {
    "execution": {
     "iopub.execute_input": "2021-04-02T22:12:25.993748Z",
     "iopub.status.busy": "2021-04-02T22:12:25.984685Z",
     "iopub.status.idle": "2021-04-02T22:12:26.449712Z",
     "shell.execute_reply": "2021-04-02T22:12:26.450215Z"
    },
    "pycharm": {
     "name": "#%%\n"
    }
   },
   "source": [
    "module = compile_model(model, print_python=True)\n",
    "# Create a record selecting position \"a\" (top)\n",
    "print('-' * 40)\n",
    "c1 = module.PositionalRecord('my location', 'a')\n",
    "print(str(c1))\n",
    "print(str(c1.position))\n",
    "print(repr(c1.position))\n",
    "try:\n",
    "    c2 = module.PositionalRecord('your location', 'z')\n",
    "except ValueError as e:\n",
    "    print(e)\n"
   ],
   "outputs": []
  },
  {
   "cell_type": "markdown",
   "metadata": {
    "collapsed": false,
    "pycharm": {
     "name": "#%% md\n"
    }
   },
   "source": [
    "## Note that non-python values still work, although they won't appear in the auto-complete section"
   ]
  },
  {
   "cell_type": "code",
   "execution_count": 5,
   "metadata": {
    "collapsed": false,
    "execution": {
     "iopub.execute_input": "2021-04-02T22:12:26.453951Z",
     "iopub.status.busy": "2021-04-02T22:12:26.453343Z",
     "iopub.status.idle": "2021-04-02T22:12:26.461051Z",
     "shell.execute_reply": "2021-04-02T22:12:26.460642Z"
    },
    "pycharm": {
     "name": "#%%\n"
    }
   },
   "source": [
    "%%yaml model2\n",
    "\n",
    "id: http://example.org/test/simple\n",
    "name: simple\n",
    "description: Enumeration with some non-std values\n",
    "\n",
    "prefixes:\n",
    "  linkml: https://w3id.org/linkml/\n",
    "  play: http://example.org/test/play/\n",
    "\n",
    "default_range: string\n",
    "default_prefix: play\n",
    "\n",
    "imports:\n",
    "  - linkml:types\n",
    "\n",
    "classes:\n",
    "    Sample:\n",
    "        attributes:\n",
    "            key:\n",
    "                range: string\n",
    "                identifier: true\n",
    "            enumentry:\n",
    "                range: Unusual enum patterns\n",
    "                multivalued: true\n",
    "\n",
    "enums:\n",
    "  Unusual enum patterns:\n",
    "    description: Very odd enumeration\n",
    "    permissible_values:\n",
    "      M: Normal selection\n",
    "      1: Numeric selection\n",
    "      def: Python reserved word\n",
    "      \"embedded space\": Embedded space\n",
    "      \"% ! -- whoo\": Really weird stuff"
   ],
   "outputs": []
  },
  {
   "cell_type": "code",
   "execution_count": 6,
   "metadata": {
    "collapsed": false,
    "execution": {
     "iopub.execute_input": "2021-04-02T22:12:26.472248Z",
     "iopub.status.busy": "2021-04-02T22:12:26.471385Z",
     "iopub.status.idle": "2021-04-02T22:12:26.628402Z",
     "shell.execute_reply": "2021-04-02T22:12:26.628829Z"
    },
    "pycharm": {
     "name": "#%%\n"
    }
   },
   "source": [
    "module = compile_model(model2, print_python=True)\n",
    "t = module.Sample(\"Something\", [module.UnusualEnumPatterns.M, module.UnusualEnumPatterns['% ! -- whoo']])\n",
    "print(str(t))"
   ],
   "outputs": []
  },
  {
   "cell_type": "markdown",
   "metadata": {
    "collapsed": false,
    "pycharm": {
     "name": "#%% md\n"
    }
   },
   "source": [
    "## Enumerations can be \"bound\" to external URI's\n",
    "The URI's can be emitted as Curies OR URI's (your choice)"
   ]
  },
  {
   "cell_type": "code",
   "execution_count": 7,
   "metadata": {
    "collapsed": false,
    "execution": {
     "iopub.execute_input": "2021-04-02T22:12:26.632775Z",
     "iopub.status.busy": "2021-04-02T22:12:26.632033Z",
     "iopub.status.idle": "2021-04-02T22:12:26.640492Z",
     "shell.execute_reply": "2021-04-02T22:12:26.641236Z"
    },
    "pycharm": {
     "name": "#%%\n"
    }
   },
   "source": [
    "%%yaml model3\n",
    "id: http://example.org/test/simple\n",
    "name: simple\n",
    "description: Very simple enumeration\n",
    "\n",
    "prefixes:\n",
    "  linkml: https://w3id.org/linkml/\n",
    "  play: http://example.org/test/play/\n",
    "  SCT: http://snomed.info/id/\n",
    "\n",
    "default_range: string\n",
    "default_prefix: play\n",
    "\n",
    "imports:\n",
    "  - linkml:types\n",
    "\n",
    "enums:\n",
    "  Colors:\n",
    "    description: Color values, mapped to SNOMED CT\n",
    "    permissible_values:\n",
    "      1:\n",
    "        description: Red\n",
    "        meaning: SCT:371240000\n",
    "      2:\n",
    "        description: Yellow\n",
    "        meaning: SCT:371244009\n",
    "      3:\n",
    "        meaning: SCT:405738005\n",
    "      4:\n",
    "        description: Muted\n",
    "        meaning: SCT:abcde\n",
    "        notes:\n",
    "            - Note that CURIEs are not validated if a code_set is not specified\n",
    "      9:\n",
    "        description: Muddy\n",
    "        notes:\n",
    "            - \"There isn't a SCT map for this term\"\n",
    "\n",
    "classes:\n",
    "    FavoriteColor:\n",
    "        attributes:\n",
    "            id:\n",
    "                range: string\n",
    "                identifier: true\n",
    "            position:\n",
    "                range: Colors\n",
    "                required: true"
   ],
   "outputs": []
  },
  {
   "cell_type": "code",
   "execution_count": 8,
   "metadata": {
    "execution": {
     "iopub.execute_input": "2021-04-02T22:12:26.653244Z",
     "iopub.status.busy": "2021-04-02T22:12:26.652590Z",
     "iopub.status.idle": "2021-04-02T22:12:26.799644Z",
     "shell.execute_reply": "2021-04-02T22:12:26.800034Z"
    },
    "pycharm": {
     "name": "#%%\n"
    }
   },
   "source": [
    "module = compile_model(model3)\n",
    "colorrec = module.FavoriteColor(\"Harold\", module.Colors['2'])\n",
    "print(colorrec)\n",
    "print(str(colorrec.position))\n",
    "print(colorrec.position.meaning)\n",
    "cr2 = module.FavoriteColor(\"Donald\", module.Colors['4'])\n",
    "print(cr2.position.meaning)"
   ],
   "outputs": []
  },
  {
   "cell_type": "markdown",
   "metadata": {
    "collapsed": false,
    "pycharm": {
     "name": "#%% md\n"
    }
   },
   "source": [
    "# Enumerations and code sets\n",
    "Enumerations have additional variables that reference code sets (i.e. a list of URI's)\n",
    "* `code_set` - A curie that references a list of URI's. Can be:\n",
    "    * The URI of an entire ontology, which uses the 'CS' prefix (e.g. `CS:SCT`, `CS:HP`, ...)\n",
    "    * The URI of a code set definition (see: TCCM model)\n",
    "* `code_set_tag` - the (case insensitive) tag assigned to a particular release of a code set by a terminology service.\n",
    "   If default tag, if neither a tag or a version is supplied, is \"Current\", the meaning of which\n",
    "   is assigned by the service.\n",
    "* `code_set_version` - a (case sensitive) version identifier that names a specific code set.\n",
    "\n",
    "In the example above, the URI, `http://snomed.info/id/abcde` was accepted as a valid meaning\n",
    "association.  If, however, we supply the SNOMED CT Code set (CS:SCT):\n",
    "\n",
    "1. The enumeration will only accept _valid_ SCT URI's and\n",
    "2. Any valid SCT URI will automatically provide the description and, if appropriate, its description\n",
    "\n",
    "*Note: Need to make it clear that CS:HP is actually shorthand for a CodeSetDefinition that states ALL codes from\n",
    "the CURRENT version of CS:HP.*\n",
    "\n",
    "*Note 2: Also same thing for descendents of:  SCT:74400008 == NS1:SCTAppendicites(root=SCT:744000008, rel=descendants)*"
   ]
  }
 ],
 "metadata": {
  "kernelspec": {
   "display_name": "Python 3",
   "language": "python",
   "name": "python3"
  },
  "language_info": {
   "codemirror_mode": {
    "name": "ipython",
    "version": 3
   },
   "file_extension": ".py",
   "mimetype": "text/x-python",
   "name": "python",
   "nbconvert_exporter": "python",
   "pygments_lexer": "ipython3",
   "version": "3.9.2"
  }
 },
 "nbformat": 4,
 "nbformat_minor": 1
}
