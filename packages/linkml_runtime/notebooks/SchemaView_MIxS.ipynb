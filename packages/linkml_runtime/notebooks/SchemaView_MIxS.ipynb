{
 "cells": [
  {
   "cell_type": "code",
   "execution_count": 1,
   "id": "d82643aa",
   "metadata": {},
   "outputs": [],
   "source": [
    "from linkml_runtime.utils.schemaview import SchemaView"
   ]
  },
  {
   "cell_type": "code",
   "execution_count": 2,
   "id": "850e4b34",
   "metadata": {},
   "outputs": [],
   "source": [
    "view = SchemaView(\"../tests/test_utils/input/mixs/mixs.yaml\")"
   ]
  },
  {
   "cell_type": "code",
   "execution_count": 4,
   "id": "c0e9ccd4",
   "metadata": {},
   "outputs": [],
   "source": [
    "len(view.all_slots())"
   ]
  },
  {
   "cell_type": "code",
   "execution_count": 10,
   "id": "98f7305b",
   "metadata": {},
   "outputs": [],
   "source": [
    "list(view.all_classes().keys())[0:10]"
   ]
  },
  {
   "cell_type": "code",
   "execution_count": 19,
   "id": "84e6ff27",
   "metadata": {},
   "outputs": [],
   "source": [
    "view.get_slot(\"elev\").required is True"
   ]
  },
  {
   "cell_type": "code",
   "execution_count": 20,
   "id": "cf892380",
   "metadata": {},
   "outputs": [],
   "source": [
    "view.induced_slot(\"elev\", \"soil\").required is True"
   ]
  },
  {
   "cell_type": "code",
   "execution_count": 21,
   "id": "735859e1",
   "metadata": {},
   "outputs": [],
   "source": [
    "view.induced_slot(\"elev\", \"human-gut\").required is True"
   ]
  },
  {
   "cell_type": "code",
   "execution_count": 23,
   "id": "ff33091c",
   "metadata": {},
   "outputs": [],
   "source": [
    "view.get_class(\"MIUVIG\").description"
   ]
  },
  {
   "cell_type": "code",
   "execution_count": 25,
   "id": "11a0226e",
   "metadata": {},
   "outputs": [],
   "source": [
    "view.class_descendants(\"MIUVIG\")"
   ]
  },
  {
   "cell_type": "code",
   "execution_count": 26,
   "id": "4656e62b",
   "metadata": {},
   "outputs": [],
   "source": [
    "view.induced_slot(\"vir_ident_software\", \"MIUVIG\").required is True"
   ]
  },
  {
   "cell_type": "code",
   "execution_count": 27,
   "id": "2e103d35",
   "metadata": {},
   "outputs": [],
   "source": [
    "view.induced_slot(\"vir_ident_software\", \"soil MIUVIG\").required is True"
   ]
  },
  {
   "cell_type": "code",
   "execution_count": 28,
   "id": "1b9d4bd2",
   "metadata": {},
   "outputs": [],
   "source": [
    "view.induced_slot(\"vir_ident_software\", \"soil\").required is True"
   ]
  },
  {
   "cell_type": "code",
   "execution_count": null,
   "id": "1b8dcfa2",
   "metadata": {},
   "outputs": [],
   "source": []
  }
 ],
 "metadata": {
  "kernelspec": {
   "display_name": "Python 3 (ipykernel)",
   "language": "python",
   "name": "python3"
  },
  "language_info": {
   "codemirror_mode": {
    "name": "ipython",
    "version": 3
   },
   "file_extension": ".py",
   "mimetype": "text/x-python",
   "name": "python",
   "nbconvert_exporter": "python",
   "pygments_lexer": "ipython3",
   "version": "3.9.5"
  }
 },
 "nbformat": 4,
 "nbformat_minor": 5
}
