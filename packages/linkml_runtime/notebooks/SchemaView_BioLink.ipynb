{
 "cells": [
  {
   "cell_type": "code",
   "execution_count": 2,
   "metadata": {},
   "outputs": [],
   "source": [
    "from linkml_runtime.utils.schemaview import SchemaView"
   ]
  },
  {
   "cell_type": "code",
   "execution_count": 3,
   "metadata": {},
   "outputs": [],
   "source": [
    "view = SchemaView(\"../tests/test_utils/input/biolink-model.yaml\")"
   ]
  },
  {
   "cell_type": "code",
   "execution_count": 4,
   "metadata": {},
   "outputs": [
    {
     "name": "stdout",
     "output_type": "stream",
     "text": [
      "Loading schema https://w3id.org/linkml/types from ../tests/test_utils/input/biolink-model.yaml\n"
     ]
    },
    {
     "data": {
      "text/plain": [
       "['Biolink-Model', 'linkml:types']"
      ]
     },
     "execution_count": 4,
     "metadata": {},
     "output_type": "execute_result"
    }
   ],
   "source": [
    "view.imports_closure()"
   ]
  },
  {
   "cell_type": "code",
   "execution_count": 5,
   "metadata": {},
   "outputs": [
    {
     "data": {
      "text/plain": [
       "(257, 421, 4)"
      ]
     },
     "execution_count": 5,
     "metadata": {},
     "output_type": "execute_result"
    }
   ],
   "source": [
    "len(view.all_classes()), len(view.all_slots()), len(view.all_subsets())"
   ]
  },
  {
   "cell_type": "code",
   "execution_count": 6,
   "metadata": {},
   "outputs": [
    {
     "data": {
      "text/plain": [
       "['gene',\n",
       " 'gene or gene product',\n",
       " 'genomic entity',\n",
       " 'chemical entity or gene or gene product',\n",
       " 'physical essence',\n",
       " 'ontology class',\n",
       " 'biological entity',\n",
       " 'named thing',\n",
       " 'entity',\n",
       " 'physical essence or occurrent',\n",
       " 'thing with taxon',\n",
       " 'macromolecular machine mixin']"
      ]
     },
     "execution_count": 6,
     "metadata": {},
     "output_type": "execute_result"
    }
   ],
   "source": [
    "view.class_ancestors('gene')"
   ]
  },
  {
   "cell_type": "code",
   "execution_count": 7,
   "metadata": {},
   "outputs": [
    {
     "data": {
      "text/plain": [
       "['biolink:Gene',\n",
       " 'biolink:GeneOrGeneProduct',\n",
       " 'biolink:GenomicEntity',\n",
       " 'biolink:ChemicalEntityOrGeneOrGeneProduct',\n",
       " 'biolink:PhysicalEssence',\n",
       " 'biolink:OntologyClass',\n",
       " 'biolink:BiologicalEntity',\n",
       " 'biolink:NamedThing',\n",
       " 'biolink:Entity',\n",
       " 'biolink:PhysicalEssenceOrOccurrent',\n",
       " 'biolink:ThingWithTaxon',\n",
       " 'biolink:MacromolecularMachineMixin']"
      ]
     },
     "execution_count": 7,
     "metadata": {},
     "output_type": "execute_result"
    }
   ],
   "source": [
    "[view.get_uri(c) for c in view.class_ancestors('gene')]"
   ]
  },
  {
   "cell_type": "code",
   "execution_count": 8,
   "metadata": {},
   "outputs": [
    {
     "data": {
      "text/plain": [
       "['https://w3id.org/biolink/vocab/Gene',\n",
       " 'https://w3id.org/biolink/vocab/GeneOrGeneProduct',\n",
       " 'https://w3id.org/biolink/vocab/GenomicEntity',\n",
       " 'https://w3id.org/biolink/vocab/ChemicalEntityOrGeneOrGeneProduct',\n",
       " 'https://w3id.org/biolink/vocab/PhysicalEssence',\n",
       " 'https://w3id.org/biolink/vocab/OntologyClass',\n",
       " 'https://w3id.org/biolink/vocab/BiologicalEntity',\n",
       " 'https://w3id.org/biolink/vocab/NamedThing',\n",
       " 'https://w3id.org/biolink/vocab/Entity',\n",
       " 'https://w3id.org/biolink/vocab/PhysicalEssenceOrOccurrent',\n",
       " 'https://w3id.org/biolink/vocab/ThingWithTaxon',\n",
       " 'https://w3id.org/biolink/vocab/MacromolecularMachineMixin']"
      ]
     },
     "execution_count": 8,
     "metadata": {},
     "output_type": "execute_result"
    }
   ],
   "source": [
    "[view.get_uri(c, expand=True) for c in view.class_ancestors('gene')]"
   ]
  },
  {
   "cell_type": "code",
   "execution_count": 9,
   "metadata": {},
   "outputs": [
    {
     "data": {
      "text/plain": [
       "['gene', 'biological entity', 'named thing', 'entity']"
      ]
     },
     "execution_count": 9,
     "metadata": {},
     "output_type": "execute_result"
    }
   ],
   "source": [
    "view.class_ancestors('gene', mixins=False)"
   ]
  },
  {
   "cell_type": "code",
   "execution_count": 10,
   "metadata": {},
   "outputs": [
    {
     "data": {
      "text/plain": [
       "['affects', 'related to']"
      ]
     },
     "execution_count": 10,
     "metadata": {},
     "output_type": "execute_result"
    }
   ],
   "source": [
    "view.slot_ancestors('affects')"
   ]
  },
  {
   "cell_type": "code",
   "execution_count": 11,
   "metadata": {},
   "outputs": [
    {
     "data": {
      "text/plain": [
       "['affects abundance of',\n",
       " 'abundance affected by',\n",
       " 'affects activity of',\n",
       " 'activity affected by',\n",
       " 'activity affects',\n",
       " 'affects expression of',\n",
       " 'expression affected by',\n",
       " 'affects folding of',\n",
       " 'folding affected by',\n",
       " 'affects localization of',\n",
       " 'localization affected by',\n",
       " 'affects metabolic processing of',\n",
       " 'metabolic processing affected by',\n",
       " 'affects molecular modification of',\n",
       " 'molecular modification affected by',\n",
       " 'affects synthesis of',\n",
       " 'sythesis affected by',\n",
       " 'affects degradation of',\n",
       " 'degradation affected by',\n",
       " 'affects mutation rate of',\n",
       " 'mutation rate affected by',\n",
       " 'affects response to',\n",
       " 'response affected by',\n",
       " 'affects splicing of',\n",
       " 'splicing affected by',\n",
       " 'affects stability of',\n",
       " 'stability affected by',\n",
       " 'affects transport of',\n",
       " 'transport affected by',\n",
       " 'affects secretion of',\n",
       " 'secretion affected by',\n",
       " 'affects uptake of',\n",
       " 'uptake affected by',\n",
       " 'process regulates process',\n",
       " 'entity regulates entity',\n",
       " 'disrupts',\n",
       " 'ameliorates',\n",
       " 'exacerbates',\n",
       " 'affects expression in']"
      ]
     },
     "execution_count": 11,
     "metadata": {},
     "output_type": "execute_result"
    }
   ],
   "source": [
    "view.slot_children('affects')"
   ]
  },
  {
   "cell_type": "code",
   "execution_count": 12,
   "metadata": {},
   "outputs": [],
   "source": [
    "affects = view.get_slot('affects')"
   ]
  },
  {
   "cell_type": "code",
   "execution_count": 13,
   "metadata": {},
   "outputs": [
    {
     "data": {
      "text/plain": [
       "['SEMMEDDB:AFFECTS', 'SEMMEDDB:affects', 'DGIdb:affects', 'RTXKG1:affects']"
      ]
     },
     "execution_count": 13,
     "metadata": {},
     "output_type": "execute_result"
    }
   ],
   "source": [
    "affects.exact_mappings"
   ]
  },
  {
   "cell_type": "code",
   "execution_count": 14,
   "metadata": {},
   "outputs": [
    {
     "data": {
      "text/plain": [
       "{'self': ['biolink:affects'],\n",
       " 'native': ['biolink:affects'],\n",
       " 'exact': ['SEMMEDDB:AFFECTS',\n",
       "  'SEMMEDDB:affects',\n",
       "  'DGIdb:affects',\n",
       "  'RTXKG1:affects'],\n",
       " 'narrow': ['SEMMEDDB:administered_to',\n",
       "  'CTD:prediction_hypothesis',\n",
       "  'GOREL:0001006',\n",
       "  'CTD:inferred',\n",
       "  'UPHENO:0000001',\n",
       "  'RO:0002263',\n",
       "  'RO:0002264',\n",
       "  'NCIT:R158',\n",
       "  'NCIT:R160',\n",
       "  'NCIT:R30',\n",
       "  'NCIT:R150',\n",
       "  'NCIT:R72',\n",
       "  'NCIT:R146',\n",
       "  'NCIT:R124',\n",
       "  'NCIT:R173',\n",
       "  'NCIT:R100',\n",
       "  'NCIT:R102',\n",
       "  'NCIT:R101',\n",
       "  'NCIT:R113',\n",
       "  'NCIT:R23',\n",
       "  'NCIT:R25',\n",
       "  'NCIT:gene_mapped_to_disease',\n",
       "  'NCIT:R133',\n",
       "  'RO:0002343',\n",
       "  'RO:0002355',\n",
       "  'RO:0002591',\n",
       "  'RO:0002592',\n",
       "  'RO:0012003',\n",
       "  'SNOMED:has_pathological_process'],\n",
       " 'broad': [],\n",
       " 'related': ['DRUGBANK:pathway'],\n",
       " 'close': [],\n",
       " 'undefined': []}"
      ]
     },
     "execution_count": 14,
     "metadata": {},
     "output_type": "execute_result"
    }
   ],
   "source": [
    "view.get_mappings(affects.name)"
   ]
  },
  {
   "cell_type": "code",
   "execution_count": 15,
   "metadata": {},
   "outputs": [
    {
     "data": {
      "text/plain": [
       "{'self': ['https://w3id.org/biolink/vocab/affects'],\n",
       " 'native': ['https://w3id.org/biolink/vocab/affects'],\n",
       " 'exact': ['https://skr3.nlm.nih.gov/SemMedDBAFFECTS',\n",
       "  'https://skr3.nlm.nih.gov/SemMedDBaffects',\n",
       "  'https://www.dgidb.org/interaction_typesaffects',\n",
       "  'http://kg1endpoint.rtx.ai/affects'],\n",
       " 'narrow': ['https://skr3.nlm.nih.gov/SemMedDBadministered_to',\n",
       "  'http://translator.ncats.nih.gov/CTD_prediction_hypothesis',\n",
       "  'http://purl.obolibrary.org/obo/GOREL_0001006',\n",
       "  'http://translator.ncats.nih.gov/CTD_inferred',\n",
       "  'http://purl.obolibrary.org/obo/UPHENO_0000001',\n",
       "  'http://purl.obolibrary.org/obo/RO_0002263',\n",
       "  'http://purl.obolibrary.org/obo/RO_0002264',\n",
       "  'http://purl.obolibrary.org/obo/NCIT_R158',\n",
       "  'http://purl.obolibrary.org/obo/NCIT_R160',\n",
       "  'http://purl.obolibrary.org/obo/NCIT_R30',\n",
       "  'http://purl.obolibrary.org/obo/NCIT_R150',\n",
       "  'http://purl.obolibrary.org/obo/NCIT_R72',\n",
       "  'http://purl.obolibrary.org/obo/NCIT_R146',\n",
       "  'http://purl.obolibrary.org/obo/NCIT_R124',\n",
       "  'http://purl.obolibrary.org/obo/NCIT_R173',\n",
       "  'http://purl.obolibrary.org/obo/NCIT_R100',\n",
       "  'http://purl.obolibrary.org/obo/NCIT_R102',\n",
       "  'http://purl.obolibrary.org/obo/NCIT_R101',\n",
       "  'http://purl.obolibrary.org/obo/NCIT_R113',\n",
       "  'http://purl.obolibrary.org/obo/NCIT_R23',\n",
       "  'http://purl.obolibrary.org/obo/NCIT_R25',\n",
       "  'http://purl.obolibrary.org/obo/NCIT_gene_mapped_to_disease',\n",
       "  'http://purl.obolibrary.org/obo/NCIT_R133',\n",
       "  'http://purl.obolibrary.org/obo/RO_0002343',\n",
       "  'http://purl.obolibrary.org/obo/RO_0002355',\n",
       "  'http://purl.obolibrary.org/obo/RO_0002591',\n",
       "  'http://purl.obolibrary.org/obo/RO_0002592',\n",
       "  'http://purl.obolibrary.org/obo/RO_0012003',\n",
       "  'http://purl.obolibrary.org/obo/SNOMED_has_pathological_process'],\n",
       " 'broad': [],\n",
       " 'related': ['http://identifiers.org/drugbank/pathway'],\n",
       " 'close': [],\n",
       " 'undefined': []}"
      ]
     },
     "execution_count": 15,
     "metadata": {},
     "output_type": "execute_result"
    }
   ],
   "source": [
    "view.get_mappings(affects.name, expand=True)"
   ]
  },
  {
   "cell_type": "code",
   "execution_count": 16,
   "metadata": {},
   "outputs": [
    {
     "data": {
      "text/plain": [
       "['association',\n",
       " 'contributor association',\n",
       " 'genotype to genotype part association',\n",
       " 'genotype to gene association',\n",
       " 'genotype to variant association',\n",
       " 'gene to gene association',\n",
       " 'gene to gene homology association',\n",
       " 'gene to gene coexpression association',\n",
       " 'pairwise gene to gene interaction',\n",
       " 'pairwise molecular interaction',\n",
       " 'cell line to disease or phenotypic feature association',\n",
       " 'chemical to chemical association',\n",
       " 'reaction to participant association',\n",
       " 'reaction to catalyst association',\n",
       " 'chemical to chemical derivation association',\n",
       " 'chemical to disease or phenotypic feature association',\n",
       " 'chemical to pathway association',\n",
       " 'chemical to gene association',\n",
       " 'drug to gene association',\n",
       " 'material sample derivation association']"
      ]
     },
     "execution_count": 16,
     "metadata": {},
     "output_type": "execute_result"
    }
   ],
   "source": [
    "[c for c in view.all_classes().keys() if view.is_relationship(c)][0:20]"
   ]
  },
  {
   "cell_type": "code",
   "execution_count": 17,
   "metadata": {},
   "outputs": [
    {
     "data": {
      "text/plain": [
       "{}"
      ]
     },
     "execution_count": 17,
     "metadata": {},
     "output_type": "execute_result"
    }
   ],
   "source": [
    "view.annotation_dict(affects.name)"
   ]
  },
  {
   "cell_type": "code",
   "execution_count": 18,
   "metadata": {},
   "outputs": [
    {
     "data": {
      "text/plain": [
       "{'biolink:canonical_predicate': Annotation(tag='biolink:canonical_predicate', value='True', extensions={}, annotations={})}"
      ]
     },
     "execution_count": 18,
     "metadata": {},
     "output_type": "execute_result"
    }
   ],
   "source": [
    "affects.annotations"
   ]
  },
  {
   "cell_type": "code",
   "execution_count": 20,
   "metadata": {},
   "outputs": [
    {
     "data": {
      "text/plain": [
       "False"
      ]
     },
     "execution_count": 20,
     "metadata": {},
     "output_type": "execute_result"
    }
   ],
   "source": [
    "from linkml_runtime.linkml_model.annotations import Annotation, Annotatable\n",
    "\n",
    "isinstance(affects, Annotatable)"
   ]
  },
  {
   "cell_type": "code",
   "execution_count": 21,
   "metadata": {},
   "outputs": [
    {
     "data": {
      "text/plain": [
       "SlotDefinition(name='affects', id_prefixes=[], definition_uri=None, aliases=[], local_names={}, mappings=[], exact_mappings=['SEMMEDDB:AFFECTS', 'SEMMEDDB:affects', 'DGIdb:affects', 'RTXKG1:affects'], close_mappings=[], related_mappings=['DRUGBANK:pathway'], narrow_mappings=['SEMMEDDB:administered_to', 'CTD:prediction_hypothesis', 'GOREL:0001006', 'CTD:inferred', 'UPHENO:0000001', 'RO:0002263', 'RO:0002264', 'NCIT:R158', 'NCIT:R160', 'NCIT:R30', 'NCIT:R150', 'NCIT:R72', 'NCIT:R146', 'NCIT:R124', 'NCIT:R173', 'NCIT:R100', 'NCIT:R102', 'NCIT:R101', 'NCIT:R113', 'NCIT:R23', 'NCIT:R25', 'NCIT:gene_mapped_to_disease', 'NCIT:R133', 'RO:0002343', 'RO:0002355', 'RO:0002591', 'RO:0002592', 'RO:0012003', 'SNOMED:has_pathological_process'], broad_mappings=[], extensions={}, annotations={'biolink:canonical_predicate': Annotation(tag='biolink:canonical_predicate', value='True', extensions={}, annotations={})}, description=\"describes an entity that has a direct affect on the state or quality of another existing entity. Use of the 'affects' predicate implies that the affected entity already exists, unlike predicates such as 'affects risk for' and 'prevents, where the outcome is something that may or may not come to be.\", alt_descriptions={}, deprecated=None, todos=[], notes=[], comments=[], examples=[], in_subset=['translator_minimal'], from_schema=None, imported_from=None, see_also=[], deprecated_element_has_exact_replacement=None, deprecated_element_has_possible_replacement=None, is_a='related to', abstract=None, mixin=None, mixins=[], apply_to=[], values_from=[], created_by=None, created_on=None, last_updated_on=None, modified_by=None, status=None, string_serialization=None, singular_name=None, domain=None, range=None, slot_uri=None, multivalued=None, inherited=None, readonly=None, ifabsent=None, required=None, recommended=None, inlined=None, inlined_as_list=None, key=None, identifier=None, alias=None, owner=None, domain_of=[], subproperty_of=None, symmetric=None, inverse=None, is_class_field=None, role=None, is_usage_slot=None, usage_slot_name=None, minimum_value=None, maximum_value=None, pattern=None)"
      ]
     },
     "execution_count": 21,
     "metadata": {},
     "output_type": "execute_result"
    }
   ],
   "source": [
    "affects"
   ]
  },
  {
   "cell_type": "code",
   "execution_count": 22,
   "metadata": {},
   "outputs": [
    {
     "data": {
      "text/plain": [
       "SlotDefinition(name='affects', id_prefixes=[], definition_uri=None, aliases=[], local_names={}, mappings=[], exact_mappings=['SEMMEDDB:AFFECTS', 'SEMMEDDB:affects', 'DGIdb:affects', 'RTXKG1:affects'], close_mappings=[], related_mappings=['DRUGBANK:pathway'], narrow_mappings=['SEMMEDDB:administered_to', 'CTD:prediction_hypothesis', 'GOREL:0001006', 'CTD:inferred', 'UPHENO:0000001', 'RO:0002263', 'RO:0002264', 'NCIT:R158', 'NCIT:R160', 'NCIT:R30', 'NCIT:R150', 'NCIT:R72', 'NCIT:R146', 'NCIT:R124', 'NCIT:R173', 'NCIT:R100', 'NCIT:R102', 'NCIT:R101', 'NCIT:R113', 'NCIT:R23', 'NCIT:R25', 'NCIT:gene_mapped_to_disease', 'NCIT:R133', 'RO:0002343', 'RO:0002355', 'RO:0002591', 'RO:0002592', 'RO:0012003', 'SNOMED:has_pathological_process'], broad_mappings=[], extensions={}, annotations={'biolink:canonical_predicate': Annotation(tag='biolink:canonical_predicate', value='True', extensions={}, annotations={})}, description=\"describes an entity that has a direct affect on the state or quality of another existing entity. Use of the 'affects' predicate implies that the affected entity already exists, unlike predicates such as 'affects risk for' and 'prevents, where the outcome is something that may or may not come to be.\", alt_descriptions={}, deprecated=None, todos=[], notes=[], comments=[], examples=[], in_subset=['translator_minimal'], from_schema=None, imported_from=None, see_also=[], deprecated_element_has_exact_replacement=None, deprecated_element_has_possible_replacement=None, is_a='related to', abstract=None, mixin=None, mixins=[], apply_to=[], values_from=[], created_by=None, created_on=None, last_updated_on=None, modified_by=None, status=None, string_serialization=None, singular_name=None, domain=None, range=None, slot_uri=None, multivalued=None, inherited=None, readonly=None, ifabsent=None, required=None, recommended=None, inlined=None, inlined_as_list=None, key=None, identifier=None, alias=None, owner=None, domain_of=[], subproperty_of=None, symmetric=None, inverse=None, is_class_field=None, role=None, is_usage_slot=None, usage_slot_name=None, minimum_value=None, maximum_value=None, pattern=None)"
      ]
     },
     "execution_count": 22,
     "metadata": {},
     "output_type": "execute_result"
    }
   ],
   "source": [
    "e = view.get_element('affects')\n",
    "e"
   ]
  },
  {
   "cell_type": "code",
   "execution_count": null,
   "metadata": {},
   "outputs": [],
   "source": []
  }
 ],
 "metadata": {
  "kernelspec": {
   "display_name": "Python 3 (ipykernel)",
   "language": "python",
   "name": "python3"
  },
  "language_info": {
   "codemirror_mode": {
    "name": "ipython",
    "version": 3
   },
   "file_extension": ".py",
   "mimetype": "text/x-python",
   "name": "python",
   "nbconvert_exporter": "python",
   "pygments_lexer": "ipython3",
   "version": "3.9.5"
  }
 },
 "nbformat": 4,
 "nbformat_minor": 2
}
