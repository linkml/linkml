{
 "cells": [
  {
   "cell_type": "code",
   "execution_count": 1,
   "metadata": {},
   "outputs": [],
   "source": [
    "from linkml_runtime.utils.schemaview import SchemaView"
   ]
  },
  {
   "cell_type": "code",
   "execution_count": 2,
   "metadata": {},
   "outputs": [],
   "source": [
    "view = SchemaView(\"../tests/test_utils/input/biolink-model.yaml\")"
   ]
  },
  {
   "cell_type": "code",
   "execution_count": 3,
   "metadata": {},
   "outputs": [
    {
     "name": "stdout",
     "output_type": "stream",
     "text": [
      "Loading schema https://w3id.org/linkml/types from ../tests/test_utils/input/biolink-model.yaml\n"
     ]
    },
    {
     "data": {
      "text/plain": [
       "['Biolink-Model', 'linkml:types']"
      ]
     },
     "execution_count": 3,
     "metadata": {},
     "output_type": "execute_result"
    }
   ],
   "source": [
    "view.imports_closure()"
   ]
  },
  {
   "cell_type": "code",
   "execution_count": 4,
   "metadata": {},
   "outputs": [
    {
     "data": {
      "text/plain": [
       "(257, 421, 4)"
      ]
     },
     "execution_count": 4,
     "metadata": {},
     "output_type": "execute_result"
    }
   ],
   "source": [
    "len(view.all_class()), len(view.all_slot()), len(view.all_subset())"
   ]
  },
  {
   "cell_type": "code",
   "execution_count": 5,
   "metadata": {},
   "outputs": [
    {
     "data": {
      "text/plain": [
       "['gene',\n",
       " 'gene or gene product',\n",
       " 'genomic entity',\n",
       " 'chemical entity or gene or gene product',\n",
       " 'physical essence',\n",
       " 'ontology class',\n",
       " 'biological entity',\n",
       " 'named thing',\n",
       " 'entity',\n",
       " 'physical essence or occurrent',\n",
       " 'thing with taxon',\n",
       " 'macromolecular machine mixin']"
      ]
     },
     "execution_count": 5,
     "metadata": {},
     "output_type": "execute_result"
    }
   ],
   "source": [
    "view.class_ancestors('gene')"
   ]
  },
  {
   "cell_type": "code",
   "execution_count": 7,
   "metadata": {},
   "outputs": [
    {
     "data": {
      "text/plain": [
       "['biolink:Gene',\n",
       " 'biolink:GeneOrGeneProduct',\n",
       " 'biolink:GenomicEntity',\n",
       " 'biolink:ChemicalEntityOrGeneOrGeneProduct',\n",
       " 'biolink:PhysicalEssence',\n",
       " 'biolink:OntologyClass',\n",
       " 'biolink:BiologicalEntity',\n",
       " 'biolink:NamedThing',\n",
       " 'biolink:Entity',\n",
       " 'biolink:PhysicalEssenceOrOccurrent',\n",
       " 'biolink:ThingWithTaxon',\n",
       " 'biolink:MacromolecularMachineMixin']"
      ]
     },
     "execution_count": 7,
     "metadata": {},
     "output_type": "execute_result"
    }
   ],
   "source": [
    "[view.get_uri(c) for c in view.class_ancestors('gene')]"
   ]
  },
  {
   "cell_type": "code",
   "execution_count": 8,
   "metadata": {},
   "outputs": [
    {
     "data": {
      "text/plain": [
       "['https://w3id.org/biolink/vocab/Gene',\n",
       " 'https://w3id.org/biolink/vocab/GeneOrGeneProduct',\n",
       " 'https://w3id.org/biolink/vocab/GenomicEntity',\n",
       " 'https://w3id.org/biolink/vocab/ChemicalEntityOrGeneOrGeneProduct',\n",
       " 'https://w3id.org/biolink/vocab/PhysicalEssence',\n",
       " 'https://w3id.org/biolink/vocab/OntologyClass',\n",
       " 'https://w3id.org/biolink/vocab/BiologicalEntity',\n",
       " 'https://w3id.org/biolink/vocab/NamedThing',\n",
       " 'https://w3id.org/biolink/vocab/Entity',\n",
       " 'https://w3id.org/biolink/vocab/PhysicalEssenceOrOccurrent',\n",
       " 'https://w3id.org/biolink/vocab/ThingWithTaxon',\n",
       " 'https://w3id.org/biolink/vocab/MacromolecularMachineMixin']"
      ]
     },
     "execution_count": 8,
     "metadata": {},
     "output_type": "execute_result"
    }
   ],
   "source": [
    "[view.get_uri(c, expand=True) for c in view.class_ancestors('gene')]"
   ]
  },
  {
   "cell_type": "code",
   "execution_count": 9,
   "metadata": {},
   "outputs": [
    {
     "data": {
      "text/plain": [
       "['gene', 'biological entity', 'named thing', 'entity']"
      ]
     },
     "execution_count": 9,
     "metadata": {},
     "output_type": "execute_result"
    }
   ],
   "source": [
    "view.class_ancestors('gene', mixins=False)"
   ]
  },
  {
   "cell_type": "code",
   "execution_count": 10,
   "metadata": {},
   "outputs": [
    {
     "data": {
      "text/plain": [
       "['affects', 'related to']"
      ]
     },
     "execution_count": 10,
     "metadata": {},
     "output_type": "execute_result"
    }
   ],
   "source": [
    "view.slot_ancestors('affects')"
   ]
  },
  {
   "cell_type": "code",
   "execution_count": 13,
   "metadata": {},
   "outputs": [
    {
     "data": {
      "text/plain": [
       "['affects abundance of',\n",
       " 'abundance affected by',\n",
       " 'affects activity of',\n",
       " 'activity affected by',\n",
       " 'activity affects',\n",
       " 'affects expression of',\n",
       " 'expression affected by',\n",
       " 'affects folding of',\n",
       " 'folding affected by',\n",
       " 'affects localization of',\n",
       " 'localization affected by',\n",
       " 'affects metabolic processing of',\n",
       " 'metabolic processing affected by',\n",
       " 'affects molecular modification of',\n",
       " 'molecular modification affected by',\n",
       " 'affects synthesis of',\n",
       " 'sythesis affected by',\n",
       " 'affects degradation of',\n",
       " 'degradation affected by',\n",
       " 'affects mutation rate of',\n",
       " 'mutation rate affected by',\n",
       " 'affects response to',\n",
       " 'response affected by',\n",
       " 'affects splicing of',\n",
       " 'splicing affected by',\n",
       " 'affects stability of',\n",
       " 'stability affected by',\n",
       " 'affects transport of',\n",
       " 'transport affected by',\n",
       " 'affects secretion of',\n",
       " 'secretion affected by',\n",
       " 'affects uptake of',\n",
       " 'uptake affected by',\n",
       " 'process regulates process',\n",
       " 'entity regulates entity',\n",
       " 'disrupts',\n",
       " 'ameliorates',\n",
       " 'exacerbates',\n",
       " 'affects expression in']"
      ]
     },
     "execution_count": 13,
     "metadata": {},
     "output_type": "execute_result"
    }
   ],
   "source": [
    "view.slot_children('affects')"
   ]
  },
  {
   "cell_type": "code",
   "execution_count": 15,
   "metadata": {},
   "outputs": [],
   "source": [
    "affects = view.get_slot('affects')"
   ]
  },
  {
   "cell_type": "code",
   "execution_count": 16,
   "metadata": {},
   "outputs": [
    {
     "data": {
      "text/plain": [
       "['SEMMEDDB:AFFECTS', 'SEMMEDDB:affects', 'DGIdb:affects', 'RTXKG1:affects']"
      ]
     },
     "execution_count": 16,
     "metadata": {},
     "output_type": "execute_result"
    }
   ],
   "source": [
    "affects.exact_mappings"
   ]
  },
  {
   "cell_type": "code",
   "execution_count": 20,
   "metadata": {},
   "outputs": [
    {
     "data": {
      "text/plain": [
       "['association',\n",
       " 'contributor association',\n",
       " 'genotype to genotype part association',\n",
       " 'genotype to gene association',\n",
       " 'genotype to variant association',\n",
       " 'gene to gene association',\n",
       " 'gene to gene homology association',\n",
       " 'gene to gene coexpression association',\n",
       " 'pairwise gene to gene interaction',\n",
       " 'pairwise molecular interaction',\n",
       " 'cell line to disease or phenotypic feature association',\n",
       " 'chemical to chemical association',\n",
       " 'reaction to participant association',\n",
       " 'reaction to catalyst association',\n",
       " 'chemical to chemical derivation association',\n",
       " 'chemical to disease or phenotypic feature association',\n",
       " 'chemical to pathway association',\n",
       " 'chemical to gene association',\n",
       " 'drug to gene association',\n",
       " 'material sample derivation association']"
      ]
     },
     "execution_count": 20,
     "metadata": {},
     "output_type": "execute_result"
    }
   ],
   "source": [
    "[c for c in view.all_class().keys() if view.is_relationship(c)][0:20]"
   ]
  },
  {
   "cell_type": "code",
   "execution_count": null,
   "metadata": {},
   "outputs": [],
   "source": []
  }
 ],
 "metadata": {
  "kernelspec": {
   "display_name": "Python 3 (ipykernel)",
   "language": "python",
   "name": "python3"
  },
  "language_info": {
   "codemirror_mode": {
    "name": "ipython",
    "version": 3
   },
   "file_extension": ".py",
   "mimetype": "text/x-python",
   "name": "python",
   "nbconvert_exporter": "python",
   "pygments_lexer": "ipython3",
   "version": "3.9.5"
  }
 },
 "nbformat": 4,
 "nbformat_minor": 2
}
